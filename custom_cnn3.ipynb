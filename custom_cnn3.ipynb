{
  "cells": [
    {
      "cell_type": "code",
      "execution_count": null,
      "metadata": {
        "id": "EDG9SjhsTgjE"
      },
      "outputs": [],
      "source": [
        "#datasets from:\n",
        "#https://www.kaggle.com/datasets/atulyakumar98/test-dataset?sort=most-comments\n",
        "#https://www.kaggle.com/datasets/phylake1337/fire-dataset\n",
        "#https://github.com/DeepQuestAI/Fire-Smoke-Dataset"
      ]
    },
    {
      "cell_type": "markdown",
      "metadata": {
        "id": "uN6C5uhzTcav"
      },
      "source": [
        "## Library load"
      ]
    },
    {
      "cell_type": "code",
      "execution_count": null,
      "metadata": {
        "colab": {
          "base_uri": "https://localhost:8080/"
        },
        "id": "uVa1ZItwTZak",
        "outputId": "bcaf4da8-3ccb-4959-a1f5-f44d17f03011"
      },
      "outputs": [
        {
          "output_type": "stream",
          "name": "stdout",
          "text": [
            "Mounted at /content/drive\n"
          ]
        }
      ],
      "source": [
        "from google.colab import drive\n",
        "drive.mount('/content/drive')"
      ]
    },
    {
      "cell_type": "code",
      "execution_count": null,
      "metadata": {
        "colab": {
          "base_uri": "https://localhost:8080/"
        },
        "id": "vlHPTBNBWiTD",
        "outputId": "ec3db616-3887-4e6b-e965-f47d5a3b9336"
      },
      "outputs": [
        {
          "output_type": "stream",
          "name": "stdout",
          "text": [
            "/content/drive/MyDrive/Portofolio/fire_detection_quant_aware\n"
          ]
        }
      ],
      "source": [
        "cd /content/drive/MyDrive/Portofolio/fire_detection_quant_aware"
      ]
    },
    {
      "cell_type": "code",
      "execution_count": null,
      "metadata": {
        "colab": {
          "base_uri": "https://localhost:8080/"
        },
        "id": "6QH4Yz7dTZ28",
        "outputId": "124af160-f239-4c69-bb20-16f5576139a9"
      },
      "outputs": [
        {
          "output_type": "stream",
          "name": "stdout",
          "text": [
            "Callbacks\t      custom_cnn3.ipynb    quant_saved_models\n",
            "cluster_saved_models  old\t\t   saved_models\n",
            "combined\t      pruned_saved_models  TFLite_Models\n",
            "combined_test\t      pruning.ipynb\t   weight_clustering.ipynb\n"
          ]
        }
      ],
      "source": [
        "!ls"
      ]
    },
    {
      "cell_type": "code",
      "execution_count": null,
      "metadata": {
        "colab": {
          "base_uri": "https://localhost:8080/"
        },
        "id": "ksqxnIA5LlAj",
        "outputId": "a2876311-3088-48b2-db1f-c9e782dd4679"
      },
      "outputs": [
        {
          "output_type": "stream",
          "name": "stdout",
          "text": [
            "Looking in indexes: https://pypi.org/simple, https://us-python.pkg.dev/colab-wheels/public/simple/\n",
            "Collecting tensorflow-model-optimization\n",
            "  Downloading tensorflow_model_optimization-0.7.2-py2.py3-none-any.whl (237 kB)\n",
            "\u001b[K     |████████████████████████████████| 237 kB 29.6 MB/s \n",
            "\u001b[?25hRequirement already satisfied: dm-tree~=0.1.1 in /usr/local/lib/python3.7/dist-packages (from tensorflow-model-optimization) (0.1.7)\n",
            "Requirement already satisfied: six~=1.10 in /usr/local/lib/python3.7/dist-packages (from tensorflow-model-optimization) (1.15.0)\n",
            "Requirement already satisfied: numpy~=1.14 in /usr/local/lib/python3.7/dist-packages (from tensorflow-model-optimization) (1.21.6)\n",
            "Installing collected packages: tensorflow-model-optimization\n",
            "Successfully installed tensorflow-model-optimization-0.7.2\n"
          ]
        }
      ],
      "source": [
        " !pip install  tensorflow-model-optimization\n"
      ]
    },
    {
      "cell_type": "code",
      "execution_count": null,
      "metadata": {
        "id": "b8xDcJH5TZ8A"
      },
      "outputs": [],
      "source": [
        "import pandas as pd\n",
        "import numpy as np\n",
        "import seaborn as sns\n",
        "import matplotlib.pyplot as plt\n",
        "import os\n",
        "import glob\n",
        "\n",
        "import tensorflow as tf\n",
        "from tensorflow.keras.preprocessing.image import ImageDataGenerator\n",
        "\n",
        "\n",
        "from PIL import Image\n",
        "from matplotlib import image as plt_image\n",
        "import cv2\n",
        "\n",
        "from tensorflow.keras.applications import MobileNetV2\n",
        "from tensorflow.keras.applications.mobilenet_v2 import preprocess_input \n",
        "#mobilenet expects inputs in the range [-1 1] of float data type\n",
        "\n",
        "from tensorflow.keras.preprocessing import image\n",
        "from tensorflow.keras.models import Model\n",
        "from tensorflow.keras.layers import Dense, GlobalAveragePooling2D, Input, Dropout\n",
        "from tensorflow.keras import Sequential \n",
        "#https://keras.io/api/applications/mobilenet/ #mobilenet explanation"
      ]
    },
    {
      "cell_type": "code",
      "execution_count": null,
      "metadata": {
        "id": "uLROIApITZ9u"
      },
      "outputs": [],
      "source": [
        "import tensorflow_model_optimization as tfmot\n"
      ]
    },
    {
      "cell_type": "code",
      "execution_count": null,
      "metadata": {
        "id": "um-SAl-qTaA4"
      },
      "outputs": [],
      "source": [
        "np.random.seed(42)# keras seed fixing \n",
        "tf.random.set_seed(42)# tensorflow seed fixing"
      ]
    },
    {
      "cell_type": "markdown",
      "metadata": {
        "id": "lx3VD0bqZ8fX"
      },
      "source": [
        "## Dataset Information"
      ]
    },
    {
      "cell_type": "code",
      "execution_count": null,
      "metadata": {
        "colab": {
          "base_uri": "https://localhost:8080/"
        },
        "id": "aFwWpHNQTaCI",
        "outputId": "2b532663-5b14-446b-8a7d-a6c2b0373abd"
      },
      "outputs": [
        {
          "output_type": "execute_result",
          "data": {
            "text/plain": [
              "['/content/drive/MyDrive/Portofolio/fire_detection_quant_aware/combined/fire',\n",
              " '/content/drive/MyDrive/Portofolio/fire_detection_quant_aware/combined/not_fire']"
            ]
          },
          "metadata": {},
          "execution_count": 8
        }
      ],
      "source": [
        "glob.glob(\"/content/drive/MyDrive/Portofolio/fire_detection_quant_aware/combined/*\") #our two file folders"
      ]
    },
    {
      "cell_type": "markdown",
      "metadata": {
        "id": "f4COuq8MWdPa"
      },
      "source": [
        "### train and validation data"
      ]
    },
    {
      "cell_type": "code",
      "execution_count": null,
      "metadata": {
        "colab": {
          "base_uri": "https://localhost:8080/"
        },
        "id": "BVaZlcxhTaEV",
        "outputId": "66044aff-7666-48d5-c21f-7f095b6146d2"
      },
      "outputs": [
        {
          "output_type": "stream",
          "name": "stdout",
          "text": [
            "number of images in total 3450\n",
            "number of fire images in total 1765\n",
            "number of not fire images in total 1685\n"
          ]
        }
      ],
      "source": [
        "print(\"number of images in total\", len(glob.glob(\"/content/drive/MyDrive/Portofolio/fire_detection_quant_aware/combined/*/*\")))\n",
        "print(\"number of fire images in total\", len(glob.glob(\"/content/drive/MyDrive/Portofolio/fire_detection_quant_aware/combined/fire/*\")))\n",
        "print(\"number of not fire images in total\", len(glob.glob(\"/content/drive/MyDrive/Portofolio/fire_detection_quant_aware/combined/not_fire/*\")))"
      ]
    },
    {
      "cell_type": "markdown",
      "metadata": {
        "id": "XgrPoXgfWf3o"
      },
      "source": [
        "### test data"
      ]
    },
    {
      "cell_type": "code",
      "execution_count": null,
      "metadata": {
        "colab": {
          "base_uri": "https://localhost:8080/"
        },
        "id": "70ioTQa_Wf-k",
        "outputId": "ed9192c1-84ec-4e60-be76-7a4ef2bac7e3"
      },
      "outputs": [
        {
          "output_type": "execute_result",
          "data": {
            "text/plain": [
              "['/content/drive/MyDrive/Portofolio/fire_detection_quant_aware/combined_test/fire',\n",
              " '/content/drive/MyDrive/Portofolio/fire_detection_quant_aware/combined_test/not_fire']"
            ]
          },
          "metadata": {},
          "execution_count": 10
        }
      ],
      "source": [
        "glob.glob(\"/content/drive/MyDrive/Portofolio/fire_detection_quant_aware/combined_test/*\")"
      ]
    },
    {
      "cell_type": "code",
      "execution_count": null,
      "metadata": {
        "colab": {
          "base_uri": "https://localhost:8080/"
        },
        "id": "dCvakDa8Is2i",
        "outputId": "945bbc1e-3b61-4c80-d40a-05af8b1777c1"
      },
      "outputs": [
        {
          "output_type": "stream",
          "name": "stdout",
          "text": [
            "number of images in total 200\n",
            "number of fire images in total 100\n",
            "number of not fire images in total 100\n"
          ]
        }
      ],
      "source": [
        "print(\"number of images in total\", len(glob.glob(\"/content/drive/MyDrive/Portofolio/fire_detection_quant_aware/combined_test/*/*\")))\n",
        "print(\"number of fire images in total\", len(glob.glob(\"/content/drive/MyDrive/Portofolio/fire_detection_quant_aware/combined_test/fire/*\")))\n",
        "print(\"number of not fire images in total\", len(glob.glob(\"/content/drive/MyDrive/Portofolio/fire_detection_quant_aware/combined_test/not_fire/*\")))"
      ]
    },
    {
      "cell_type": "markdown",
      "metadata": {
        "id": "HjagyiZlgr4i"
      },
      "source": [
        "## Hyperparameters"
      ]
    },
    {
      "cell_type": "code",
      "execution_count": null,
      "metadata": {
        "colab": {
          "base_uri": "https://localhost:8080/"
        },
        "id": "zRFWKaijh_05",
        "outputId": "75894c52-9b50-4fd9-9053-c42e612b7b7a"
      },
      "outputs": [
        {
          "output_type": "stream",
          "name": "stdout",
          "text": [
            "(48, 48) (48, 48, 3)\n"
          ]
        },
        {
          "output_type": "execute_result",
          "data": {
            "text/plain": [
              "0.001"
            ]
          },
          "metadata": {},
          "execution_count": 12
        }
      ],
      "source": [
        "class hyperparams:\n",
        "  def __init__(self):\n",
        "    self.dim2d = (48,48) #image dimensions we want downscale\n",
        "    self.dim3d = (48,48,3) #128 is the minimum for mobilenet\n",
        "    self.batch_size = 64\n",
        "    self.no_epochs = 50#30\n",
        "    self.lr = 1e-3\n",
        "  \n",
        "hparams =  hyperparams()\n",
        "print(hparams.dim2d,hparams.dim3d)\n",
        "hparams.lr"
      ]
    },
    {
      "cell_type": "markdown",
      "metadata": {
        "id": "UftMvxqmZ-_g"
      },
      "source": [
        "##Data Augmentation"
      ]
    },
    {
      "cell_type": "markdown",
      "metadata": {
        "id": "iVqMfCqcc4-N"
      },
      "source": [
        "### pre augmentation images"
      ]
    },
    {
      "cell_type": "code",
      "execution_count": null,
      "metadata": {
        "colab": {
          "base_uri": "https://localhost:8080/"
        },
        "id": "o2XeukDUdSAK",
        "outputId": "854a5379-ee57-41e4-f025-8f9d8982d343"
      },
      "outputs": [
        {
          "output_type": "stream",
          "name": "stdout",
          "text": [
            "fire  not_fire\n"
          ]
        }
      ],
      "source": [
        "!ls combined  "
      ]
    },
    {
      "cell_type": "code",
      "execution_count": null,
      "metadata": {
        "colab": {
          "base_uri": "https://localhost:8080/"
        },
        "id": "PgiAsHrSdC6r",
        "outputId": "cbeeaf9a-bba3-49dd-9ef7-fa58f4e73798"
      },
      "outputs": [
        {
          "output_type": "stream",
          "name": "stdout",
          "text": [
            "uint8\n",
            "(480, 852, 3)\n"
          ]
        },
        {
          "output_type": "display_data",
          "data": {
            "text/plain": [
              "<Figure size 432x288 with 1 Axes>"
            ],
            "image/png": "[encoded data removed]"
          },
          "metadata": {
            "needs_background": "light"
          }
        }
      ],
      "source": [
        "# load and display an image with Matplotlib\n",
        "# load image as pixel array\n",
        "img = plt_image.imread(\"combined/fire/\" + \"1.jpg\")\n",
        "# summarize shape of the pixel array\n",
        "print(img.dtype)\n",
        "print(img.shape)\n",
        "\n",
        "# display the array of pixels as an image\n",
        "plt.imshow(img)\n",
        "plt.show()"
      ]
    },
    {
      "cell_type": "code",
      "execution_count": null,
      "metadata": {
        "colab": {
          "base_uri": "https://localhost:8080/"
        },
        "id": "9bEaCAEgeB1R",
        "outputId": "b879c72c-3d1b-47ee-8a17-542865d8e697"
      },
      "outputs": [
        {
          "output_type": "stream",
          "name": "stdout",
          "text": [
            "uint8\n",
            "(1087, 1500, 3)\n"
          ]
        },
        {
          "output_type": "display_data",
          "data": {
            "text/plain": [
              "<Figure size 432x288 with 1 Axes>"
            ],
            "image/png": "[encoded data removed]"
          },
          "metadata": {
            "needs_background": "light"
          }
        }
      ],
      "source": [
        "# load and display an image with Matplotlib\n",
        "# load image as pixel array\n",
        "img = plt_image.imread(\"combined/not_fire/\" + \"1.jpg\")\n",
        "# summarize shape of the pixel array\n",
        "print(img.dtype)\n",
        "print(img.shape)\n",
        "\n",
        "# display the array of pixels as an image\n",
        "plt.imshow(img)\n",
        "plt.show()"
      ]
    },
    {
      "cell_type": "markdown",
      "metadata": {
        "id": "YhIrBKioc7vB"
      },
      "source": [
        "### augmentation and preprocess\n"
      ]
    },
    {
      "cell_type": "code",
      "execution_count": null,
      "metadata": {
        "id": "2vxgBmT_T_aZ"
      },
      "outputs": [],
      "source": [
        "def preproc(inp):#custom one without using tf functions\n",
        "  return (inp*1.0/255)"
      ]
    },
    {
      "cell_type": "code",
      "execution_count": null,
      "metadata": {
        "id": "riRziuW9TaH_"
      },
      "outputs": [],
      "source": [
        "train_datagen = ImageDataGenerator(#featurewise_center=True,\n",
        "                             rotation_range=(0-30),\n",
        "                             width_shift_range=0.2,\n",
        "                             height_shift_range=0.2,\n",
        "                             brightness_range=[0.5,1.5],\n",
        "                             shear_range=0.2, \n",
        "                             zoom_range=0.2,\n",
        "                             channel_shift_range=0.2,\n",
        "                             horizontal_flip=True, \n",
        "                             #vertical_flip=True,\n",
        "                             fill_mode='nearest',\n",
        "                             validation_split=0.15,\n",
        "                             preprocessing_function=preproc,\n",
        "                             \n",
        "                             dtype=float)#use 0.15 of our data for validation\n",
        "\n",
        "test_datagen = ImageDataGenerator(\n",
        "                                  dtype=float,\n",
        "                                  preprocessing_function=preproc\n",
        "                                  ) #no augmentation for test #there is a different folder structure for testing\n",
        "\n"
      ]
    },
    {
      "cell_type": "markdown",
      "metadata": {
        "id": "AdWIx7H4dAE0"
      },
      "source": [
        "### post augmentation images and generator creation "
      ]
    },
    {
      "cell_type": "code",
      "execution_count": null,
      "metadata": {
        "colab": {
          "base_uri": "https://localhost:8080/"
        },
        "id": "H_G-rgV1gizy",
        "outputId": "434f8782-b885-4a51-e1d6-5f1f4ba806f3"
      },
      "outputs": [
        {
          "output_type": "stream",
          "name": "stdout",
          "text": [
            "Found 2934 images belonging to 2 classes.\n",
            "Found 516 images belonging to 2 classes.\n",
            "Found 200 images belonging to 2 classes.\n"
          ]
        }
      ],
      "source": [
        "train_generator = train_datagen.flow_from_directory(\n",
        "    \"combined\",\n",
        "    target_size=hparams.dim2d,\n",
        "    batch_size=hparams.batch_size,\n",
        "    class_mode='binary',\n",
        "    shuffle=True,\n",
        "    color_mode=\"rgb\",\n",
        "    interpolation=\"bilinear\",\n",
        "    subset='training') # set as training data\n",
        "\n",
        "validation_generator = train_datagen.flow_from_directory(\n",
        "    \"combined\", # same directory as training data\n",
        "    target_size=hparams.dim2d,\n",
        "    batch_size=hparams.batch_size,\n",
        "    class_mode='binary',\n",
        "    shuffle=False,\n",
        "    color_mode=\"rgb\",\n",
        "    interpolation=\"bilinear\",\n",
        "    subset='validation') # set as validation data\n",
        "\n",
        "\n",
        "test_generator = test_datagen.flow_from_directory(\n",
        "    \"combined_test\", \n",
        "    target_size=hparams.dim2d,\n",
        "    batch_size=hparams.batch_size,\n",
        "    class_mode='binary',\n",
        "    interpolation=\"bilinear\",\n",
        "    color_mode=\"rgb\",\n",
        "    ) # set as test data"
      ]
    },
    {
      "cell_type": "code",
      "execution_count": null,
      "metadata": {
        "colab": {
          "base_uri": "https://localhost:8080/"
        },
        "id": "VTFQxnAqO25z",
        "outputId": "92f78c03-2563-4e3d-d9b2-38b8076036be"
      },
      "outputs": [
        {
          "output_type": "stream",
          "name": "stdout",
          "text": [
            "(64, 48, 48, 3)\n",
            "float32\n"
          ]
        },
        {
          "output_type": "execute_result",
          "data": {
            "text/plain": [
              "(0.0, 1.0)"
            ]
          },
          "metadata": {},
          "execution_count": 20
        }
      ],
      "source": [
        " img = next(train_generator)[0]\n",
        " print(img.shape)\n",
        " print(img.dtype)\n",
        " img.min(),img.max()"
      ]
    },
    {
      "cell_type": "code",
      "execution_count": null,
      "metadata": {
        "id": "92If51GmPH4G",
        "colab": {
          "base_uri": "https://localhost:8080/"
        },
        "outputId": "77d35f1f-82cf-4131-97a6-1e571952650e"
      },
      "outputs": [
        {
          "output_type": "stream",
          "name": "stdout",
          "text": [
            "(64, 48, 48, 3)\n",
            "float32\n"
          ]
        },
        {
          "output_type": "execute_result",
          "data": {
            "text/plain": [
              "(0.0, 1.0)"
            ]
          },
          "metadata": {},
          "execution_count": 21
        }
      ],
      "source": [
        " img = next(validation_generator)[0]\n",
        " print(img.shape)\n",
        " print(img.dtype)\n",
        " img.min(),img.max()"
      ]
    },
    {
      "cell_type": "code",
      "execution_count": null,
      "metadata": {
        "id": "atWlkdNOPO0U",
        "colab": {
          "base_uri": "https://localhost:8080/"
        },
        "outputId": "9b6ff30a-25f3-4d70-f7d2-e70147a9b6e7"
      },
      "outputs": [
        {
          "output_type": "stream",
          "name": "stdout",
          "text": [
            "(64, 48, 48, 3)\n",
            "float32\n"
          ]
        },
        {
          "output_type": "execute_result",
          "data": {
            "text/plain": [
              "(0.0, 1.0)"
            ]
          },
          "metadata": {},
          "execution_count": 22
        }
      ],
      "source": [
        " img = next(test_generator)[0]\n",
        " print(img.shape)\n",
        " print(img.dtype)\n",
        " img.min(),img.max()"
      ]
    },
    {
      "cell_type": "markdown",
      "metadata": {
        "id": "aXvkchFoWrDX"
      },
      "source": [
        "## Model creation"
      ]
    },
    {
      "cell_type": "code",
      "execution_count": null,
      "metadata": {
        "id": "Jd5f0pvUYu2A",
        "colab": {
          "base_uri": "https://localhost:8080/"
        },
        "outputId": "bbd15bd3-a67c-4772-c77e-acb7337886e3"
      },
      "outputs": [
        {
          "output_type": "stream",
          "name": "stdout",
          "text": [
            "Model: \"sequential\"\n",
            "_________________________________________________________________\n",
            " Layer (type)                Output Shape              Param #   \n",
            "=================================================================\n",
            " conv2d (Conv2D)             (None, 46, 46, 16)        448       \n",
            "                                                                 \n",
            " batch_normalization (BatchN  (None, 46, 46, 16)       64        \n",
            " ormalization)                                                   \n",
            "                                                                 \n",
            " conv2d_1 (Conv2D)           (None, 44, 44, 16)        2320      \n",
            "                                                                 \n",
            " batch_normalization_1 (Batc  (None, 44, 44, 16)       64        \n",
            " hNormalization)                                                 \n",
            "                                                                 \n",
            " max_pooling2d (MaxPooling2D  (None, 22, 22, 16)       0         \n",
            " )                                                               \n",
            "                                                                 \n",
            " dropout (Dropout)           (None, 22, 22, 16)        0         \n",
            "                                                                 \n",
            " conv2d_2 (Conv2D)           (None, 20, 20, 32)        4640      \n",
            "                                                                 \n",
            " batch_normalization_2 (Batc  (None, 20, 20, 32)       128       \n",
            " hNormalization)                                                 \n",
            "                                                                 \n",
            " conv2d_3 (Conv2D)           (None, 18, 18, 32)        9248      \n",
            "                                                                 \n",
            " batch_normalization_3 (Batc  (None, 18, 18, 32)       128       \n",
            " hNormalization)                                                 \n",
            "                                                                 \n",
            " max_pooling2d_1 (MaxPooling  (None, 9, 9, 32)         0         \n",
            " 2D)                                                             \n",
            "                                                                 \n",
            " dropout_1 (Dropout)         (None, 9, 9, 32)          0         \n",
            "                                                                 \n",
            " conv2d_4 (Conv2D)           (None, 7, 7, 64)          18496     \n",
            "                                                                 \n",
            " batch_normalization_4 (Batc  (None, 7, 7, 64)         256       \n",
            " hNormalization)                                                 \n",
            "                                                                 \n",
            " conv2d_5 (Conv2D)           (None, 5, 5, 64)          36928     \n",
            "                                                                 \n",
            " batch_normalization_5 (Batc  (None, 5, 5, 64)         256       \n",
            " hNormalization)                                                 \n",
            "                                                                 \n",
            " max_pooling2d_2 (MaxPooling  (None, 2, 2, 64)         0         \n",
            " 2D)                                                             \n",
            "                                                                 \n",
            " dropout_2 (Dropout)         (None, 2, 2, 64)          0         \n",
            "                                                                 \n",
            " global_average_pooling2d (G  (None, 64)               0         \n",
            " lobalAveragePooling2D)                                          \n",
            "                                                                 \n",
            " dense (Dense)               (None, 1)                 65        \n",
            "                                                                 \n",
            "=================================================================\n",
            "Total params: 73,041\n",
            "Trainable params: 72,593\n",
            "Non-trainable params: 448\n",
            "_________________________________________________________________\n"
          ]
        }
      ],
      "source": [
        "from tensorflow.keras.models import Sequential\n",
        "from tensorflow.keras.layers import Conv2D, MaxPooling2D, Dropout, Flatten, Dense, Activation, BatchNormalization\n",
        "\n",
        "model = Sequential()\n",
        "\n",
        "model.add(Conv2D(16, (3, 3), activation='relu', input_shape=hparams.dim3d))\n",
        "model.add(BatchNormalization())\n",
        "model.add(Conv2D(16, (3, 3), activation='relu'))\n",
        "model.add(BatchNormalization())\n",
        "model.add(MaxPooling2D(pool_size=(2, 2)))\n",
        "model.add(Dropout(0.5))\n",
        "\n",
        "model.add(Conv2D(32, (3, 3), activation='relu'))\n",
        "model.add(BatchNormalization())\n",
        "model.add(Conv2D(32, (3, 3), activation='relu'))\n",
        "model.add(BatchNormalization())\n",
        "model.add(MaxPooling2D(pool_size=(2, 2)))\n",
        "model.add(Dropout(0.5))\n",
        "\n",
        "model.add(Conv2D(64, (3, 3), activation='relu'))\n",
        "model.add(BatchNormalization())\n",
        "model.add(Conv2D(64, (3, 3), activation='relu'))\n",
        "model.add(BatchNormalization())\n",
        "model.add(MaxPooling2D(pool_size=(2, 2)))\n",
        "model.add(Dropout(0.5))\n",
        "\n",
        "model.add(tf.keras.layers.GlobalAveragePooling2D())\n",
        "model.add(Dense(1, activation='sigmoid')) # 2 classes\n",
        "\n",
        "model.summary()"
      ]
    },
    {
      "cell_type": "markdown",
      "source": [
        "**IMPORTANT**\n",
        "\n",
        "Each 32float param will be converted to an 8bit int one. Thus, for the QUANTIZED MODEL we will need roughly 71.3KB/0.06 MB of memory (73,041/(1024^2)) for the weights. The quantized tflite model will need more space though in order to store the architecture information and the quantization parameters that are needed."
      ],
      "metadata": {
        "id": "Xjhc3k55wc42"
      }
    },
    {
      "cell_type": "markdown",
      "metadata": {
        "id": "lrVIgCDnsS3-"
      },
      "source": [
        "## Callbacks"
      ]
    },
    {
      "cell_type": "code",
      "execution_count": null,
      "metadata": {
        "id": "Yeeyuy9hY4vj"
      },
      "outputs": [],
      "source": [
        "# https://machinelearningmastery.com/how-to-stop-training-deep-neural-networks-at-the-right-time-using-early-stopping/"
      ]
    },
    {
      "cell_type": "code",
      "execution_count": null,
      "metadata": {
        "id": "s_AkZVFOdvg3"
      },
      "outputs": [],
      "source": [
        "'''\n",
        "Adding Callbacks and EarlyStopping\n",
        "Callbacks and Checkpoints help to keep an eye on model while training and stop the training\n",
        "if the performance has reached an optimum.\n",
        "'''\n",
        "from keras.callbacks import ModelCheckpoint, EarlyStopping\n",
        "\n",
        "filepath = 'Callbacks/weights-improvement-{epoch:02d}-{val_accuracy:.2f}.hdf5'\n",
        "checkpoint = ModelCheckpoint(filepath, monitor = 'val_accuracy', \n",
        "                             verbose = 1,\n",
        "                             save_best_only = True,\n",
        "                             mode = 'max',\n",
        "                             save_freq = \"epoch\", #check and save at the end of the epoch   \n",
        "                             save_weights_only=False,   #save model too   \n",
        "                             )#best accuracy saved\n",
        "\n",
        "early_stop = EarlyStopping(monitor = 'val_loss',\n",
        "                           patience = 7, #wait 7 epochs before you restore best weights and stop model trainng\n",
        "                           mode=\"min\", \n",
        "                           verbose = 1,\n",
        "                           min_delta=0.01,\n",
        "                           restore_best_weights=True)#go to the model that had the best accuracy before the early stopping before patience epochs\n",
        "\n",
        "#https://keras.io/api/callbacks/model_checkpoint/\n",
        "#https://keras.io/api/callbacks/early_stopping/\n",
        "\n"
      ]
    },
    {
      "cell_type": "markdown",
      "metadata": {
        "id": "FE8mYSKMgRpP"
      },
      "source": [
        "## Learning Rate and Optimizer"
      ]
    },
    {
      "cell_type": "code",
      "execution_count": null,
      "metadata": {
        "id": "BrdXrbf3j_Un"
      },
      "outputs": [],
      "source": [
        "#https://towardsdatascience.com/learning-rate-schedule-in-practice-an-example-with-keras-and-tensorflow-2-0-2f48b2888a0c\n",
        "#time decay\n",
        "from tensorflow.keras.optimizers import Adam\n",
        "\n",
        "\n",
        "\n",
        "def lr_time_based_decay(epoch, lr):\n",
        "    initial_learning_rate = hparams.lr \n",
        "    epochs = hparams.no_epochs\n",
        "    decay = initial_learning_rate / (epochs) *1000\n",
        "\n",
        "    return lr * 1 / (1 + decay * epoch)\n",
        "\n",
        "time_decay_learning_rate = tf.keras.callbacks.LearningRateScheduler (lr_time_based_decay, verbose=1) #CALLBACK \n",
        "callbacks = [checkpoint, early_stop,time_decay_learning_rate]\n",
        "optimizer = Adam(learning_rate=hparams.lr)"
      ]
    },
    {
      "cell_type": "code",
      "execution_count": null,
      "metadata": {
        "id": "9fITSG7Uj_gQ"
      },
      "outputs": [],
      "source": [
        "# #https://towardsdatascience.com/learning-rate-schedule-in-practice-an-example-with-keras-and-tensorflow-2-0-2f48b2888a0c\n",
        "# #step decay\n",
        "# import math\n",
        "# from tensorflow.keras.optimizers import Adam\n",
        "\n",
        "\n",
        "\n",
        "# def lr_step_decay(epoch, lr):\n",
        "#     initial_learning_rate = hparams.lr #0.1\n",
        "#     drop_rate = 0.5 #halfs the learning rate\n",
        "#     epochs_drop = 10.0\n",
        "#     return initial_learning_rate * math.pow(drop_rate, math.floor(epoch/epochs_drop))\n",
        "\n",
        "# step_decay_learning_rate = tensorflow.keras.callbacks.LearningRateScheduler (lr_step_decay, verbose=1) #CALLBACK \n",
        "# callbacks = [model_checkpoint_callback,model_earlystop_callback,step_decay_learning_rate]\n",
        "# optimizer = Adam(learning_rate=hparams.lr)"
      ]
    },
    {
      "cell_type": "code",
      "execution_count": null,
      "metadata": {
        "id": "z5JTIUSNtPTw"
      },
      "outputs": [],
      "source": [
        "# #no policies\n",
        "\n",
        "# #optimizer \n",
        "\n",
        "# from tensorflow.keras.optimizers import Adam\n",
        "# callbacks = [checkpoint, early_stop]\n",
        "# optimizer = Adam(learning_rate=hparams.lr)"
      ]
    },
    {
      "cell_type": "markdown",
      "metadata": {
        "id": "DTG9gwi1eeT2"
      },
      "source": [
        "## Model training"
      ]
    },
    {
      "cell_type": "code",
      "execution_count": null,
      "metadata": {
        "id": "d_pVmi9ZFVtW"
      },
      "outputs": [],
      "source": [
        "model.compile(optimizer=optimizer, loss = 'binary_crossentropy', metrics = 'accuracy')"
      ]
    },
    {
      "cell_type": "code",
      "execution_count": null,
      "metadata": {
        "id": "oDZ_RtTBeej9",
        "colab": {
          "base_uri": "https://localhost:8080/"
        },
        "outputId": "4a7bbdaf-410a-483e-f224-71e003a0c7e0"
      },
      "outputs": [
        {
          "output_type": "stream",
          "name": "stdout",
          "text": [
            "\n",
            "Epoch 1: LearningRateScheduler setting learning rate to 0.0010000000474974513.\n",
            "Epoch 1/50\n",
            "45/45 [==============================] - ETA: 0s - loss: 0.5703 - accuracy: 0.7530 \n",
            "Epoch 1: val_accuracy improved from -inf to 0.51562, saving model to Callbacks/weights-improvement-01-0.52.hdf5\n",
            "45/45 [==============================] - 1248s 28s/step - loss: 0.5703 - accuracy: 0.7530 - val_loss: 0.6829 - val_accuracy: 0.5156 - lr: 0.0010\n",
            "\n",
            "Epoch 2: LearningRateScheduler setting learning rate to 0.0009803922034288739.\n",
            "Epoch 2/50\n",
            "45/45 [==============================] - ETA: 0s - loss: 0.4720 - accuracy: 0.7990\n",
            "Epoch 2: val_accuracy improved from 0.51562 to 0.57422, saving model to Callbacks/weights-improvement-02-0.57.hdf5\n",
            "45/45 [==============================] - 51s 1s/step - loss: 0.4720 - accuracy: 0.7990 - val_loss: 0.6462 - val_accuracy: 0.5742 - lr: 9.8039e-04\n",
            "\n",
            "Epoch 3: LearningRateScheduler setting learning rate to 0.0009426848219635967.\n",
            "Epoch 3/50\n",
            "45/45 [==============================] - ETA: 0s - loss: 0.4123 - accuracy: 0.8324\n",
            "Epoch 3: val_accuracy improved from 0.57422 to 0.72461, saving model to Callbacks/weights-improvement-03-0.72.hdf5\n",
            "45/45 [==============================] - 51s 1s/step - loss: 0.4123 - accuracy: 0.8324 - val_loss: 0.6086 - val_accuracy: 0.7246 - lr: 9.4268e-04\n",
            "\n",
            "Epoch 4: LearningRateScheduler setting learning rate to 0.0008893253079633105.\n",
            "Epoch 4/50\n",
            "45/45 [==============================] - ETA: 0s - loss: 0.3850 - accuracy: 0.8300\n",
            "Epoch 4: val_accuracy did not improve from 0.72461\n",
            "45/45 [==============================] - 51s 1s/step - loss: 0.3850 - accuracy: 0.8300 - val_loss: 0.5724 - val_accuracy: 0.6738 - lr: 8.8933e-04\n",
            "\n",
            "Epoch 5: LearningRateScheduler setting learning rate to 0.0008234493348195596.\n",
            "Epoch 5/50\n",
            "45/45 [==============================] - ETA: 0s - loss: 0.3711 - accuracy: 0.8523\n",
            "Epoch 5: val_accuracy did not improve from 0.72461\n",
            "45/45 [==============================] - 52s 1s/step - loss: 0.3711 - accuracy: 0.8523 - val_loss: 0.5554 - val_accuracy: 0.6543 - lr: 8.2345e-04\n",
            "\n",
            "Epoch 6: LearningRateScheduler setting learning rate to 0.0007485903122208334.\n",
            "Epoch 6/50\n",
            "45/45 [==============================] - ETA: 0s - loss: 0.3315 - accuracy: 0.8606\n",
            "Epoch 6: val_accuracy improved from 0.72461 to 0.79688, saving model to Callbacks/weights-improvement-06-0.80.hdf5\n",
            "45/45 [==============================] - 52s 1s/step - loss: 0.3315 - accuracy: 0.8606 - val_loss: 0.4559 - val_accuracy: 0.7969 - lr: 7.4859e-04\n",
            "\n",
            "Epoch 7: LearningRateScheduler setting learning rate to 0.0006683842262386211.\n",
            "Epoch 7/50\n",
            "45/45 [==============================] - ETA: 0s - loss: 0.3085 - accuracy: 0.8774\n",
            "Epoch 7: val_accuracy improved from 0.79688 to 0.84766, saving model to Callbacks/weights-improvement-07-0.85.hdf5\n",
            "45/45 [==============================] - 52s 1s/step - loss: 0.3085 - accuracy: 0.8774 - val_loss: 0.3853 - val_accuracy: 0.8477 - lr: 6.6838e-04\n",
            "\n",
            "Epoch 8: LearningRateScheduler setting learning rate to 0.0005863019747234749.\n",
            "Epoch 8/50\n",
            "45/45 [==============================] - ETA: 0s - loss: 0.3182 - accuracy: 0.8728\n",
            "Epoch 8: val_accuracy did not improve from 0.84766\n",
            "45/45 [==============================] - 51s 1s/step - loss: 0.3182 - accuracy: 0.8728 - val_loss: 0.4540 - val_accuracy: 0.7617 - lr: 5.8630e-04\n",
            "\n",
            "Epoch 9: LearningRateScheduler setting learning rate to 0.0005054327253862446.\n",
            "Epoch 9/50\n",
            "45/45 [==============================] - ETA: 0s - loss: 0.2948 - accuracy: 0.8840\n",
            "Epoch 9: val_accuracy improved from 0.84766 to 0.87891, saving model to Callbacks/weights-improvement-09-0.88.hdf5\n",
            "45/45 [==============================] - 51s 1s/step - loss: 0.2948 - accuracy: 0.8840 - val_loss: 0.3017 - val_accuracy: 0.8789 - lr: 5.0543e-04\n",
            "\n",
            "Epoch 10: LearningRateScheduler setting learning rate to 0.000428332813020985.\n",
            "Epoch 10/50\n",
            "45/45 [==============================] - ETA: 0s - loss: 0.2959 - accuracy: 0.8889\n",
            "Epoch 10: val_accuracy improved from 0.87891 to 0.88672, saving model to Callbacks/weights-improvement-10-0.89.hdf5\n",
            "45/45 [==============================] - 51s 1s/step - loss: 0.2959 - accuracy: 0.8889 - val_loss: 0.3095 - val_accuracy: 0.8867 - lr: 4.2833e-04\n",
            "\n",
            "Epoch 11: LearningRateScheduler setting learning rate to 0.00035694400139618665.\n",
            "Epoch 11/50\n",
            "45/45 [==============================] - ETA: 0s - loss: 0.2942 - accuracy: 0.8784\n",
            "Epoch 11: val_accuracy did not improve from 0.88672\n",
            "45/45 [==============================] - 51s 1s/step - loss: 0.2942 - accuracy: 0.8784 - val_loss: 0.3206 - val_accuracy: 0.8828 - lr: 3.5694e-04\n",
            "\n",
            "Epoch 12: LearningRateScheduler setting learning rate to 0.0002925770383969438.\n",
            "Epoch 12/50\n",
            "45/45 [==============================] - ETA: 0s - loss: 0.2700 - accuracy: 0.9003\n",
            "Epoch 12: val_accuracy did not improve from 0.88672\n",
            "45/45 [==============================] - 52s 1s/step - loss: 0.2700 - accuracy: 0.9003 - val_loss: 0.3293 - val_accuracy: 0.8750 - lr: 2.9258e-04\n",
            "\n",
            "Epoch 13: LearningRateScheduler setting learning rate to 0.0002359492129706327.\n",
            "Epoch 13/50\n",
            "45/45 [==============================] - ETA: 0s - loss: 0.2838 - accuracy: 0.8927\n",
            "Epoch 13: val_accuracy did not improve from 0.88672\n",
            "45/45 [==============================] - 50s 1s/step - loss: 0.2838 - accuracy: 0.8927 - val_loss: 0.3396 - val_accuracy: 0.8535 - lr: 2.3595e-04\n",
            "\n",
            "Epoch 14: LearningRateScheduler setting learning rate to 0.00018726127491968254.\n",
            "Epoch 14/50\n",
            "45/45 [==============================] - ETA: 0s - loss: 0.2777 - accuracy: 0.8889\n",
            "Epoch 14: val_accuracy did not improve from 0.88672\n",
            "45/45 [==============================] - 51s 1s/step - loss: 0.2777 - accuracy: 0.8889 - val_loss: 0.3185 - val_accuracy: 0.8652 - lr: 1.8726e-04\n",
            "\n",
            "Epoch 15: LearningRateScheduler setting learning rate to 0.00014629787301601027.\n",
            "Epoch 15/50\n",
            "45/45 [==============================] - ETA: 0s - loss: 0.2781 - accuracy: 0.8875\n",
            "Epoch 15: val_accuracy did not improve from 0.88672\n",
            "45/45 [==============================] - 50s 1s/step - loss: 0.2781 - accuracy: 0.8875 - val_loss: 0.2941 - val_accuracy: 0.8730 - lr: 1.4630e-04\n",
            "\n",
            "Epoch 16: LearningRateScheduler setting learning rate to 0.00011253682224868008.\n",
            "Epoch 16/50\n",
            "45/45 [==============================] - ETA: 0s - loss: 0.2731 - accuracy: 0.8962\n",
            "Epoch 16: val_accuracy did not improve from 0.88672\n",
            "Restoring model weights from the end of the best epoch: 9.\n",
            "45/45 [==============================] - 51s 1s/step - loss: 0.2731 - accuracy: 0.8962 - val_loss: 0.3187 - val_accuracy: 0.8711 - lr: 1.1254e-04\n",
            "Epoch 16: early stopping\n"
          ]
        }
      ],
      "source": [
        "history = model.fit(\n",
        "            train_generator,\n",
        "            steps_per_epoch = train_generator.samples // hparams.batch_size,\n",
        "            validation_data = validation_generator, \n",
        "            validation_steps = validation_generator.samples // hparams.batch_size,\n",
        "            epochs = hparams.no_epochs,\n",
        "            callbacks=[callbacks])\n"
      ]
    },
    {
      "cell_type": "code",
      "execution_count": null,
      "metadata": {
        "id": "9FCJXLCqrk6O",
        "colab": {
          "base_uri": "https://localhost:8080/"
        },
        "outputId": "46f397b6-64fe-4f3a-d637-153355b2fa31"
      },
      "outputs": [
        {
          "output_type": "stream",
          "name": "stdout",
          "text": [
            "8/8 [==============================] - 7s 826ms/step - loss: 0.3240 - accuracy: 0.8633\n"
          ]
        },
        {
          "output_type": "execute_result",
          "data": {
            "text/plain": [
              "[0.32400792837142944, 0.86328125]"
            ]
          },
          "metadata": {},
          "execution_count": 31
        }
      ],
      "source": [
        "model.evaluate(validation_generator, steps=validation_generator.samples // hparams.batch_size)"
      ]
    },
    {
      "cell_type": "code",
      "execution_count": null,
      "metadata": {
        "id": "vYQ-LaTppGVy",
        "colab": {
          "base_uri": "https://localhost:8080/"
        },
        "outputId": "a419a5ad-7d15-4987-f7f6-cfa1386d86b1"
      },
      "outputs": [
        {
          "output_type": "stream",
          "name": "stdout",
          "text": [
            "3/3 [==============================] - 86s 43s/step - loss: 0.3659 - accuracy: 0.8542\n"
          ]
        },
        {
          "output_type": "execute_result",
          "data": {
            "text/plain": [
              "[0.36585044860839844, 0.8541666865348816]"
            ]
          },
          "metadata": {},
          "execution_count": 32
        }
      ],
      "source": [
        "model.evaluate(test_generator, steps=test_generator.samples // hparams.batch_size)"
      ]
    },
    {
      "cell_type": "code",
      "execution_count": null,
      "metadata": {
        "id": "PrH3LGDhtZ1y",
        "colab": {
          "base_uri": "https://localhost:8080/"
        },
        "outputId": "b9da17fc-cf01-40df-99ce-a2fe3ef72876"
      },
      "outputs": [
        {
          "output_type": "stream",
          "name": "stdout",
          "text": [
            "INFO:tensorflow:Assets written to: /content/drive/MyDrive/Portofolio/fire_detection_quant_aware/saved_models/assets\n"
          ]
        }
      ],
      "source": [
        "model.save(\"/content/drive/MyDrive/Portofolio/fire_detection_quant_aware/saved_models/\")"
      ]
    },
    {
      "cell_type": "code",
      "execution_count": null,
      "metadata": {
        "id": "OVqCkYYMtZ8-",
        "colab": {
          "base_uri": "https://localhost:8080/",
          "height": 629
        },
        "outputId": "1bfc2ae1-6520-4b47-d647-b51b4952ce3d"
      },
      "outputs": [
        {
          "output_type": "display_data",
          "data": {
            "text/plain": [
              "<Figure size 600x400 with 1 Axes>"
            ],
            "image/png": "[encoded data removed]"
          },
          "metadata": {
            "needs_background": "light"
          }
        }
      ],
      "source": [
        "#Evaluate the tensor size for the intermediate tensors (H*W*D)\n",
        "\n",
        "fig = plt.figure(dpi=100)\n",
        "\n",
        "ax = fig.add_axes([0,0,1,1])\n",
        "\n",
        "l_idx   = []\n",
        "l_sizes = []\n",
        "\n",
        "for layer in model.layers[1:]:\n",
        "  shape = layer.output_shape\n",
        "  shape = np.delete(shape, 0)\n",
        "  size  = np.prod(shape)\n",
        "  l_idx   = np.append(l_idx, layer.name)\n",
        "  l_sizes = np.append(l_sizes, size)\n",
        "\n",
        "ax.bar(l_idx, l_sizes)\n",
        "plt.xticks(rotation='vertical')\n",
        "plt.show()"
      ]
    },
    {
      "cell_type": "markdown",
      "source": [
        "**IMPORTANT**\n",
        "\n",
        "We can have a rough estimation of the tensor arena by adding the size of the biGgest tensor multiplied by 2 and the size of the input and output. For our case the biggest tensor has roughly 35k parameters which means that when quantized it will need 35k *8bit size = 35 KB(35*1024B), 70KB when multiplied. As for the input it will be 48*48*3 parameters of 8bit each. Thus the input will need 7KB(7*1024). We will also need 1B for the output. In reality tensor arena will need more space cause it needs to accomodate more parameters.\n",
        "\n",
        "By our estimation it will need roughly 80KB"
      ],
      "metadata": {
        "id": "fZwdqDpe4S5Q"
      }
    },
    {
      "cell_type": "code",
      "execution_count": null,
      "metadata": {
        "id": "mNFfesYSeevh"
      },
      "outputs": [],
      "source": [
        ""
      ]
    },
    {
      "cell_type": "markdown",
      "metadata": {
        "id": "k9vL3DpOfUbw"
      },
      "source": [
        "## Quantization aware training model and finetune it\n"
      ]
    },
    {
      "cell_type": "markdown",
      "source": [
        "#### Note that the resulting model is quantization aware but not quantized (e.g. the weights are float32 instead of int8). \n",
        "\n",
        "\n",
        "**THE MODEL ITSELF ISN'T QUANTIZED.THE MODEL LEARNS PARAMETERS THAT ARE MORE ROBUST TO QUANTIZATION.**\n",
        "\n",
        "https://www.tensorflow.org/model_optimization/guide/quantization/training_example\n",
        "\n",
        "https://blog.tensorflow.org/2020/04/quantization-aware-training-with-tensorflow-model-optimization-toolkit.html"
      ],
      "metadata": {
        "id": "c7UOCEeNSMWH"
      }
    },
    {
      "cell_type": "markdown",
      "source": [
        "#### quantize spacific type of layers"
      ],
      "metadata": {
        "id": "6cckRvt5gaz8"
      }
    },
    {
      "cell_type": "code",
      "execution_count": null,
      "metadata": {
        "id": "QKaVgCDdYz2I"
      },
      "outputs": [],
      "source": [
        "# def apply_quantization_to_dense(layer):\n",
        "#   if isinstance(layer, tf.keras.layers.Dense):\n",
        "#     return tfmot.quantization.keras.quantize_annotate_layer(layer)\n",
        "#   return layer\n",
        "\n",
        "#quant dense"
      ]
    },
    {
      "cell_type": "code",
      "execution_count": null,
      "metadata": {
        "id": "uVS2sXvAaExX"
      },
      "outputs": [],
      "source": [
        "# def apply_quantization_to_dense(layer):\n",
        "#   if isinstance(layer, tf.keras.layers.Conv2D):\n",
        "#     return tfmot.quantization.keras.quantize_annotate_layer(layer)\n",
        "#   return layer\n",
        "\n",
        "#quant conv"
      ]
    },
    {
      "cell_type": "code",
      "source": [
        "def apply_quantization_to_dense(layer):\n",
        "  if isinstance(layer, tf.keras.layers.Conv2D) or isinstance(layer, tf.keras.layers.Dense):\n",
        "    return tfmot.quantization.keras.quantize_annotate_layer(layer)\n",
        "  return layer\n",
        "\n",
        "\n",
        "#quant conv and dense"
      ],
      "metadata": {
        "id": "jwGyCSbRhDVl"
      },
      "execution_count": null,
      "outputs": []
    },
    {
      "cell_type": "code",
      "execution_count": null,
      "metadata": {
        "id": "Sa3CC-TVY0XR"
      },
      "outputs": [],
      "source": [
        "annotated_model = tf.keras.models.clone_model(\n",
        "    model,\n",
        "    clone_function=apply_quantization_to_dense,\n",
        ")"
      ]
    },
    {
      "cell_type": "code",
      "execution_count": null,
      "metadata": {
        "id": "XelRiXTwY0aw"
      },
      "outputs": [],
      "source": [
        "annotated_model.build((None, hparams.dim3d[0],hparams.dim3d[1],hparams.dim3d[2]))\n",
        "\n",
        "# Now that the Dense layers are annotated,\n",
        "# `quantize_apply` actually makes the model quantization aware.\n",
        "quant_aware_model = tfmot.quantization.keras.quantize_apply(annotated_model)"
      ]
    },
    {
      "cell_type": "code",
      "source": [
        ""
      ],
      "metadata": {
        "id": "VffFe7I3gkEJ"
      },
      "execution_count": null,
      "outputs": []
    },
    {
      "cell_type": "markdown",
      "source": [
        "#### quantize everything"
      ],
      "metadata": {
        "id": "diWxknm4gykg"
      }
    },
    {
      "cell_type": "code",
      "source": [
        "# import tensorflow_model_optimization as tfmot\n",
        "\n",
        "# quantize_model = tfmot.quantization.keras.quantize_model\n",
        "\n",
        "# # q_aware stands for for quantization aware.\n",
        "# quant_aware_model = quantize_model(model)"
      ],
      "metadata": {
        "id": "_FxCCXrtglCt"
      },
      "execution_count": null,
      "outputs": []
    },
    {
      "cell_type": "code",
      "source": [
        ""
      ],
      "metadata": {
        "id": "4sC8mNiJglMP"
      },
      "execution_count": null,
      "outputs": []
    },
    {
      "cell_type": "code",
      "execution_count": null,
      "metadata": {
        "id": "sKL0XlZeZ8QM"
      },
      "outputs": [],
      "source": [
        ""
      ]
    },
    {
      "cell_type": "markdown",
      "source": [
        "#### finetune and perform quant aware training"
      ],
      "metadata": {
        "id": "oazQSnBXhW17"
      }
    },
    {
      "cell_type": "code",
      "execution_count": null,
      "metadata": {
        "id": "lx37C238Y0eO",
        "colab": {
          "base_uri": "https://localhost:8080/"
        },
        "outputId": "ec694786-d0e6-45c7-b8ab-c04e3471c750"
      },
      "outputs": [
        {
          "output_type": "stream",
          "name": "stdout",
          "text": [
            "Model: \"sequential\"\n",
            "_________________________________________________________________\n",
            " Layer (type)                Output Shape              Param #   \n",
            "=================================================================\n",
            " quantize_layer (QuantizeLay  (None, 48, 48, 3)        3         \n",
            " er)                                                             \n",
            "                                                                 \n",
            " quant_conv2d (QuantizeWrapp  (None, 46, 46, 16)       483       \n",
            " erV2)                                                           \n",
            "                                                                 \n",
            " batch_normalization (BatchN  (None, 46, 46, 16)       64        \n",
            " ormalization)                                                   \n",
            "                                                                 \n",
            " quant_conv2d_1 (QuantizeWra  (None, 44, 44, 16)       2355      \n",
            " pperV2)                                                         \n",
            "                                                                 \n",
            " batch_normalization_1 (Batc  (None, 44, 44, 16)       64        \n",
            " hNormalization)                                                 \n",
            "                                                                 \n",
            " max_pooling2d (MaxPooling2D  (None, 22, 22, 16)       0         \n",
            " )                                                               \n",
            "                                                                 \n",
            " quant_dropout (QuantizeWrap  (None, 22, 22, 16)       1         \n",
            " perV2)                                                          \n",
            "                                                                 \n",
            " quant_conv2d_2 (QuantizeWra  (None, 20, 20, 32)       4707      \n",
            " pperV2)                                                         \n",
            "                                                                 \n",
            " batch_normalization_2 (Batc  (None, 20, 20, 32)       128       \n",
            " hNormalization)                                                 \n",
            "                                                                 \n",
            " quant_conv2d_3 (QuantizeWra  (None, 18, 18, 32)       9315      \n",
            " pperV2)                                                         \n",
            "                                                                 \n",
            " batch_normalization_3 (Batc  (None, 18, 18, 32)       128       \n",
            " hNormalization)                                                 \n",
            "                                                                 \n",
            " max_pooling2d_1 (MaxPooling  (None, 9, 9, 32)         0         \n",
            " 2D)                                                             \n",
            "                                                                 \n",
            " quant_dropout_1 (QuantizeWr  (None, 9, 9, 32)         1         \n",
            " apperV2)                                                        \n",
            "                                                                 \n",
            " quant_conv2d_4 (QuantizeWra  (None, 7, 7, 64)         18627     \n",
            " pperV2)                                                         \n",
            "                                                                 \n",
            " batch_normalization_4 (Batc  (None, 7, 7, 64)         256       \n",
            " hNormalization)                                                 \n",
            "                                                                 \n",
            " quant_conv2d_5 (QuantizeWra  (None, 5, 5, 64)         37059     \n",
            " pperV2)                                                         \n",
            "                                                                 \n",
            " batch_normalization_5 (Batc  (None, 5, 5, 64)         256       \n",
            " hNormalization)                                                 \n",
            "                                                                 \n",
            " max_pooling2d_2 (MaxPooling  (None, 2, 2, 64)         0         \n",
            " 2D)                                                             \n",
            "                                                                 \n",
            " dropout_2 (Dropout)         (None, 2, 2, 64)          0         \n",
            "                                                                 \n",
            " quant_global_average_poolin  (None, 64)               3         \n",
            " g2d (QuantizeWrapperV2)                                         \n",
            "                                                                 \n",
            " quant_dense (QuantizeWrappe  (None, 1)                70        \n",
            " rV2)                                                            \n",
            "                                                                 \n",
            "=================================================================\n",
            "Total params: 73,520\n",
            "Trainable params: 72,593\n",
            "Non-trainable params: 927\n",
            "_________________________________________________________________\n"
          ]
        }
      ],
      "source": [
        "quant_aware_model.summary()"
      ]
    },
    {
      "cell_type": "code",
      "execution_count": null,
      "metadata": {
        "id": "-u4crJxwY0gY"
      },
      "outputs": [],
      "source": [
        ""
      ]
    },
    {
      "cell_type": "code",
      "execution_count": null,
      "metadata": {
        "id": "QHIkwBD_bc7I"
      },
      "outputs": [],
      "source": [
        "'''\n",
        "Adding Callbacks and EarlyStopping\n",
        "Callbacks and Checkpoints help to keep an eye on model while training and stop the training\n",
        "if the performance has reached an optimum.\n",
        "'''\n",
        "from keras.callbacks import ModelCheckpoint, EarlyStopping\n",
        "\n",
        "filepath = 'Callbacks/weights-improvement-{epoch:02d}-{val_accuracy:.2f}.hdf5'\n",
        "checkpoint = ModelCheckpoint(filepath, monitor = 'val_accuracy', \n",
        "                             verbose = 1,\n",
        "                             save_best_only = True,\n",
        "                             mode = 'max',\n",
        "                             save_freq = \"epoch\", #check and save at the end of the epoch   \n",
        "                             save_weights_only=False,   #save model too   \n",
        "                             )#best accuracy saved\n",
        "\n",
        "early_stop = EarlyStopping(monitor = 'val_loss',\n",
        "                           patience = 7, #wait 7 epochs before you restore best weights and stop model trainng\n",
        "                           mode=\"min\", \n",
        "                           verbose = 1,\n",
        "                           min_delta=0.01,\n",
        "                           restore_best_weights=True)#go to the model that had the best accuracy before the early stopping before patience epochs\n",
        "\n",
        "#https://keras.io/api/callbacks/model_checkpoint/\n",
        "#https://keras.io/api/callbacks/early_stopping/\n"
      ]
    },
    {
      "cell_type": "code",
      "execution_count": null,
      "metadata": {
        "id": "f3oH6ejbbkFn"
      },
      "outputs": [],
      "source": [
        "#https://towardsdatascience.com/learning-rate-schedule-in-practice-an-example-with-keras-and-tensorflow-2-0-2f48b2888a0c\n",
        "#time decay\n",
        "from tensorflow.keras.optimizers import Adam\n",
        "\n",
        "\n",
        "\n",
        "def lr_time_based_decay(epoch, lr):\n",
        "    initial_learning_rate = hparams.lr /100\n",
        "    epochs = hparams.no_epochs\n",
        "    decay = initial_learning_rate / (epochs) *1000\n",
        "\n",
        "    return lr * 1 / (1 + decay * epoch)\n",
        "\n",
        "time_decay_learning_rate = tf.keras.callbacks.LearningRateScheduler (lr_time_based_decay, verbose=1) #CALLBACK \n",
        "callbacks = [checkpoint, early_stop,time_decay_learning_rate]\n",
        "optimizer = Adam(learning_rate=hparams.lr/100)"
      ]
    },
    {
      "cell_type": "code",
      "execution_count": null,
      "metadata": {
        "id": "V5a28qs4ZSo-"
      },
      "outputs": [],
      "source": [
        "# `quantize_model` requires a recompile.\n",
        "quant_aware_model.compile(optimizer=optimizer,\n",
        "              loss=\"binary_crossentropy\",\n",
        "              metrics=['accuracy'])"
      ]
    },
    {
      "cell_type": "code",
      "execution_count": null,
      "metadata": {
        "colab": {
          "base_uri": "https://localhost:8080/"
        },
        "id": "oao4h8fVsHG2",
        "outputId": "22e8530f-4faf-40c6-f5ad-a40e84ab1509"
      },
      "outputs": [
        {
          "output_type": "stream",
          "name": "stdout",
          "text": [
            "\n",
            "Epoch 1: LearningRateScheduler setting learning rate to 9.999999747378752e-06.\n",
            "Epoch 1/5\n",
            "45/45 [==============================] - ETA: 0s - loss: 0.3070 - accuracy: 0.8743\n",
            "Epoch 1: val_accuracy improved from -inf to 0.88281, saving model to Callbacks/weights-improvement-01-0.88.hdf5\n",
            "45/45 [==============================] - 56s 1s/step - loss: 0.3070 - accuracy: 0.8743 - val_loss: 0.3169 - val_accuracy: 0.8828 - lr: 1.0000e-05\n",
            "\n",
            "Epoch 2: LearningRateScheduler setting learning rate to 9.998000147349282e-06.\n",
            "Epoch 2/5\n",
            "45/45 [==============================] - ETA: 0s - loss: 0.2983 - accuracy: 0.8850\n",
            "Epoch 2: val_accuracy did not improve from 0.88281\n",
            "45/45 [==============================] - 51s 1s/step - loss: 0.2983 - accuracy: 0.8850 - val_loss: 0.3192 - val_accuracy: 0.8770 - lr: 9.9980e-06\n",
            "\n",
            "Epoch 3: LearningRateScheduler setting learning rate to 9.994002167662488e-06.\n",
            "Epoch 3/5\n",
            "45/45 [==============================] - ETA: 0s - loss: 0.2942 - accuracy: 0.8756\n",
            "Epoch 3: val_accuracy did not improve from 0.88281\n",
            "45/45 [==============================] - 51s 1s/step - loss: 0.2942 - accuracy: 0.8756 - val_loss: 0.3053 - val_accuracy: 0.8809 - lr: 9.9940e-06\n",
            "\n",
            "Epoch 4: LearningRateScheduler setting learning rate to 9.988009733475177e-06.\n",
            "Epoch 4/5\n",
            "45/45 [==============================] - ETA: 0s - loss: 0.2937 - accuracy: 0.8777\n",
            "Epoch 4: val_accuracy did not improve from 0.88281\n",
            "45/45 [==============================] - 51s 1s/step - loss: 0.2937 - accuracy: 0.8777 - val_loss: 0.3126 - val_accuracy: 0.8828 - lr: 9.9880e-06\n",
            "\n",
            "Epoch 5: LearningRateScheduler setting learning rate to 9.980025858038849e-06.\n",
            "Epoch 5/5\n",
            "45/45 [==============================] - ETA: 0s - loss: 0.2866 - accuracy: 0.8854\n",
            "Epoch 5: val_accuracy did not improve from 0.88281\n",
            "45/45 [==============================] - 52s 1s/step - loss: 0.2866 - accuracy: 0.8854 - val_loss: 0.2862 - val_accuracy: 0.8809 - lr: 9.9800e-06\n"
          ]
        }
      ],
      "source": [
        "history = quant_aware_model.fit(\n",
        "            train_generator,\n",
        "            steps_per_epoch = train_generator.samples // hparams.batch_size,\n",
        "            validation_data = validation_generator, \n",
        "            validation_steps = validation_generator.samples // hparams.batch_size,\n",
        "            epochs = 5,\n",
        "            callbacks=[callbacks]\n",
        "            )"
      ]
    },
    {
      "cell_type": "code",
      "execution_count": null,
      "metadata": {
        "colab": {
          "base_uri": "https://localhost:8080/"
        },
        "id": "B0QwmqqdsHJk",
        "outputId": "698eb38f-9d85-472e-f8d4-7eec9c552e0a"
      },
      "outputs": [
        {
          "output_type": "stream",
          "name": "stdout",
          "text": [
            "8/8 [==============================] - 7s 839ms/step - loss: 0.3035 - accuracy: 0.8789\n"
          ]
        },
        {
          "output_type": "execute_result",
          "data": {
            "text/plain": [
              "[0.30346250534057617, 0.87890625]"
            ]
          },
          "metadata": {},
          "execution_count": 46
        }
      ],
      "source": [
        "quant_aware_model.evaluate(validation_generator, steps=validation_generator.samples // hparams.batch_size)"
      ]
    },
    {
      "cell_type": "code",
      "execution_count": null,
      "metadata": {
        "colab": {
          "base_uri": "https://localhost:8080/"
        },
        "id": "aUebYthAsHLi",
        "outputId": "80bac38b-7897-47bd-ae17-625e0aa426f3"
      },
      "outputs": [
        {
          "output_type": "stream",
          "name": "stdout",
          "text": [
            "3/3 [==============================] - 1s 263ms/step - loss: 0.3996 - accuracy: 0.8229\n"
          ]
        },
        {
          "output_type": "execute_result",
          "data": {
            "text/plain": [
              "[0.3996131420135498, 0.8229166865348816]"
            ]
          },
          "metadata": {},
          "execution_count": 47
        }
      ],
      "source": [
        "quant_aware_model.evaluate(test_generator, steps=test_generator.samples // hparams.batch_size)"
      ]
    },
    {
      "cell_type": "code",
      "execution_count": null,
      "metadata": {
        "colab": {
          "base_uri": "https://localhost:8080/"
        },
        "id": "dsB9a_eLsHQN",
        "outputId": "701a69ac-1b6a-46d2-c5e2-8913de3296ad"
      },
      "outputs": [
        {
          "output_type": "stream",
          "name": "stderr",
          "text": [
            "WARNING:absl:Found untraced functions such as conv2d_layer_call_fn, conv2d_layer_call_and_return_conditional_losses, conv2d_1_layer_call_fn, conv2d_1_layer_call_and_return_conditional_losses, dropout_layer_call_fn while saving (showing 5 of 18). These functions will not be directly callable after loading.\n"
          ]
        },
        {
          "output_type": "stream",
          "name": "stdout",
          "text": [
            "INFO:tensorflow:Assets written to: /content/drive/MyDrive/Portofolio/fire_detection_quant_aware/quant_saved_models/assets\n"
          ]
        },
        {
          "output_type": "stream",
          "name": "stderr",
          "text": [
            "INFO:tensorflow:Assets written to: /content/drive/MyDrive/Portofolio/fire_detection_quant_aware/quant_saved_models/assets\n"
          ]
        }
      ],
      "source": [
        "quant_aware_model.save(\"/content/drive/MyDrive/Portofolio/fire_detection_quant_aware/quant_saved_models/\")"
      ]
    },
    {
      "cell_type": "code",
      "execution_count": null,
      "metadata": {
        "id": "dFWRTAJ8sHdY"
      },
      "outputs": [],
      "source": [
        "temp = tf.keras.models.load_model('quant_saved_models')"
      ]
    },
    {
      "cell_type": "code",
      "execution_count": null,
      "metadata": {
        "colab": {
          "base_uri": "https://localhost:8080/"
        },
        "id": "2AIoZP5m2xek",
        "outputId": "cbc8adb1-366b-461c-ffd2-be9fa892d5a5"
      },
      "outputs": [
        {
          "output_type": "stream",
          "name": "stdout",
          "text": [
            "8/8 [==============================] - 7s 793ms/step - loss: 0.3101 - accuracy: 0.8711\n"
          ]
        },
        {
          "output_type": "execute_result",
          "data": {
            "text/plain": [
              "[0.31014391779899597, 0.87109375]"
            ]
          },
          "metadata": {},
          "execution_count": 50
        }
      ],
      "source": [
        "temp.evaluate(validation_generator, steps=validation_generator.samples // hparams.batch_size)"
      ]
    },
    {
      "cell_type": "code",
      "execution_count": null,
      "metadata": {
        "colab": {
          "base_uri": "https://localhost:8080/"
        },
        "id": "iYn1_Dko2xiZ",
        "outputId": "f3f3e503-5e5d-4811-8b19-42a92de6b1d5"
      },
      "outputs": [
        {
          "output_type": "stream",
          "name": "stdout",
          "text": [
            "3/3 [==============================] - 1s 247ms/step - loss: 0.3880 - accuracy: 0.8281\n"
          ]
        },
        {
          "output_type": "execute_result",
          "data": {
            "text/plain": [
              "[0.3880127966403961, 0.828125]"
            ]
          },
          "metadata": {},
          "execution_count": 51
        }
      ],
      "source": [
        "temp.evaluate(test_generator, steps=test_generator.samples // hparams.batch_size)"
      ]
    },
    {
      "cell_type": "code",
      "execution_count": null,
      "metadata": {
        "id": "tckmW3dQ2xmL"
      },
      "outputs": [],
      "source": [
        ""
      ]
    },
    {
      "cell_type": "code",
      "execution_count": null,
      "metadata": {
        "id": "ChfLMSLZsHek"
      },
      "outputs": [],
      "source": [
        ""
      ]
    },
    {
      "cell_type": "markdown",
      "source": [
        "## SRAM MEMORY OF ARDUINO IS 256KB/0.25MB MODEL MUST FIT THERE"
      ],
      "metadata": {
        "id": "cG7wRH4lJF--"
      }
    },
    {
      "cell_type": "markdown",
      "source": [
        "## Convert to TFLite"
      ],
      "metadata": {
        "id": "9JeWvDr4svV5"
      }
    },
    {
      "cell_type": "markdown",
      "metadata": {
        "id": "Jl03f9MyzFQA"
      },
      "source": [
        "## Quantization Aware Model Full-Integer Quantization"
      ]
    },
    {
      "cell_type": "code",
      "execution_count": null,
      "metadata": {
        "id": "XdoBtULg7PaI"
      },
      "outputs": [],
      "source": [
        "def representative_data_gen():\n",
        "\n",
        "    imgs = tf.data.Dataset.from_tensor_slices(next(test_generator)[0]).batch(1)\n",
        "    for i in imgs.take(64):#batch size\n",
        "        i = tf.dtypes.cast(i, tf.float32)\n",
        "        yield [i]"
      ]
    },
    {
      "cell_type": "code",
      "execution_count": null,
      "metadata": {
        "colab": {
          "base_uri": "https://localhost:8080/"
        },
        "id": "ax5XXgqO7PdY",
        "outputId": "6c910b42-6198-4252-a6a9-7f6d82106915"
      },
      "outputs": [
        {
          "output_type": "stream",
          "name": "stderr",
          "text": [
            "WARNING:absl:Found untraced functions such as conv2d_layer_call_fn, conv2d_layer_call_and_return_conditional_losses, conv2d_1_layer_call_fn, conv2d_1_layer_call_and_return_conditional_losses, dropout_layer_call_fn while saving (showing 5 of 18). These functions will not be directly callable after loading.\n"
          ]
        },
        {
          "output_type": "stream",
          "name": "stdout",
          "text": [
            "INFO:tensorflow:Assets written to: /tmp/tmpzxx_37qb/assets\n"
          ]
        },
        {
          "output_type": "stream",
          "name": "stderr",
          "text": [
            "INFO:tensorflow:Assets written to: /tmp/tmpzxx_37qb/assets\n",
            "/usr/local/lib/python3.7/dist-packages/tensorflow/lite/python/convert.py:746: UserWarning: Statistics for quantized inputs were expected, but not specified; continuing anyway.\n",
            "  warnings.warn(\"Statistics for quantized inputs were expected, but not \"\n",
            "WARNING:absl:Buffer deduplication procedure will be skipped when flatbuffer library is not properly loaded\n"
          ]
        },
        {
          "output_type": "execute_result",
          "data": {
            "text/plain": [
              "89576"
            ]
          },
          "metadata": {},
          "execution_count": 54
        }
      ],
      "source": [
        "converter = tf.lite.TFLiteConverter.from_keras_model(quant_aware_model)\n",
        "converter.representative_dataset = tf.lite.RepresentativeDataset(representative_data_gen)\n",
        "converter.optimizations = [tf.lite.Optimize.DEFAULT]\n",
        "# converter.target_spec.supported_ops=[tf.lite.OpsSet.TFLITE_BUILTINS_INT8]\n",
        "# converter.inference_input_type = tf.int8 #quant only the input\n",
        "\n",
        "tflite_model = converter.convert()\n",
        "open(\"TFLite_Models/model.tflite\",\"wb\").write(tflite_model)"
      ]
    },
    {
      "cell_type": "code",
      "execution_count": null,
      "metadata": {
        "id": "eXvxqt8m7Phw",
        "colab": {
          "base_uri": "https://localhost:8080/"
        },
        "outputId": "08ed042b-7f0f-48bf-ce5d-38f4f06c6598"
      },
      "outputs": [
        {
          "output_type": "stream",
          "name": "stdout",
          "text": [
            "\r0% [Working]\r            \rHit:1 https://developer.download.nvidia.com/compute/cuda/repos/ubuntu1804/x86_64  InRelease\n",
            "Get:2 https://cloud.r-project.org/bin/linux/ubuntu bionic-cran40/ InRelease [3,626 B]\n",
            "Hit:3 http://archive.ubuntu.com/ubuntu bionic InRelease\n",
            "Ign:4 https://developer.download.nvidia.com/compute/machine-learning/repos/ubuntu1804/x86_64  InRelease\n",
            "Hit:5 https://developer.download.nvidia.com/compute/machine-learning/repos/ubuntu1804/x86_64  Release\n",
            "Get:6 http://security.ubuntu.com/ubuntu bionic-security InRelease [88.7 kB]\n",
            "Get:7 http://archive.ubuntu.com/ubuntu bionic-updates InRelease [88.7 kB]\n",
            "Hit:8 http://ppa.launchpad.net/c2d4u.team/c2d4u4.0+/ubuntu bionic InRelease\n",
            "Hit:10 http://ppa.launchpad.net/cran/libgit2/ubuntu bionic InRelease\n",
            "Get:11 http://archive.ubuntu.com/ubuntu bionic-backports InRelease [74.6 kB]\n",
            "Hit:12 http://ppa.launchpad.net/deadsnakes/ppa/ubuntu bionic InRelease\n",
            "Get:13 http://security.ubuntu.com/ubuntu bionic-security/restricted amd64 Packages [1,013 kB]\n",
            "Get:14 http://archive.ubuntu.com/ubuntu bionic-updates/main amd64 Packages [3,298 kB]\n",
            "Hit:15 http://ppa.launchpad.net/graphics-drivers/ppa/ubuntu bionic InRelease\n",
            "Get:16 http://security.ubuntu.com/ubuntu bionic-security/universe amd64 Packages [1,521 kB]\n",
            "Get:17 http://archive.ubuntu.com/ubuntu bionic-updates/multiverse amd64 Packages [29.8 kB]\n",
            "Get:18 http://archive.ubuntu.com/ubuntu bionic-updates/restricted amd64 Packages [1,047 kB]\n",
            "Get:19 http://archive.ubuntu.com/ubuntu bionic-updates/universe amd64 Packages [2,297 kB]\n",
            "Get:20 http://security.ubuntu.com/ubuntu bionic-security/main amd64 Packages [2,866 kB]\n",
            "Get:21 http://archive.ubuntu.com/ubuntu bionic-backports/main amd64 Packages [12.2 kB]\n",
            "Get:22 http://security.ubuntu.com/ubuntu bionic-security/multiverse amd64 Packages [22.8 kB]\n",
            "Fetched 12.4 MB in 3s (3,708 kB/s)\n",
            "Reading package lists... Done\n",
            "Selecting previously unselected package xxd.\n",
            "(Reading database ... 155639 files and directories currently installed.)\n",
            "Preparing to unpack .../xxd_2%3a8.0.1453-1ubuntu1.8_amd64.deb ...\n",
            "Unpacking xxd (2:8.0.1453-1ubuntu1.8) ...\n",
            "Setting up xxd (2:8.0.1453-1ubuntu1.8) ...\n",
            "Processing triggers for man-db (2.8.3-2ubuntu0.1) ...\n"
          ]
        }
      ],
      "source": [
        "!apt-get update && apt-get -qq install xxd\n",
        "!xxd -i TFLite_Models/model.tflite > TFLite_Models/model.h"
      ]
    },
    {
      "cell_type": "code",
      "execution_count": null,
      "metadata": {
        "id": "pHCql-bn7PkV",
        "colab": {
          "base_uri": "https://localhost:8080/"
        },
        "outputId": "0ddf08e1-49b9-45d7-fe34-6c06693be90e"
      },
      "outputs": [
        {
          "output_type": "stream",
          "name": "stdout",
          "text": [
            "Header file in MB: 0.5268936157226562\n",
            "TFLite Model in MB: 0.08542633056640625\n",
            "TFLite Model in KB: 87.4765625\n"
          ]
        }
      ],
      "source": [
        "print(\"Header file in MB:\", os.path.getsize(\"TFLite_Models/model.h\") / float(2**20))\n",
        "print(\"TFLite Model in MB:\", os.path.getsize(\"TFLite_Models/model.tflite\") / float(2**20))\n",
        "print(\"TFLite Model in KB:\", os.path.getsize(\"TFLite_Models/model.tflite\") / float(2**10))\n",
        "#print(len(tflite_model)/ float(2**20))"
      ]
    },
    {
      "cell_type": "code",
      "execution_count": null,
      "metadata": {
        "id": "xmKx13PX7Ppb"
      },
      "outputs": [],
      "source": [
        "#accuracy evaluator\n",
        "\n",
        "# Initialize the TFLite interpreter\n",
        "tfl_inter = tf.lite.Interpreter(model_content=tflite_model)\n",
        "\n",
        "# Allocate the tensors\n",
        "tfl_inter.allocate_tensors()\n",
        "\n",
        "# Get input/output layer information\n",
        "i_details = tfl_inter.get_input_details()[0]\n",
        "o_details = tfl_inter.get_output_details()[0]\n",
        "\n",
        "def classify(i_data):\n",
        "  \n",
        "  input_data = i_data[np.newaxis, ...] #add batch dimension\n",
        "  i_value_f32 = tf.dtypes.cast(input_data, tf.float32)\n",
        "  \n",
        "\n",
        "  #leave input as it is\n",
        "  i_value_s8 = i_value_f32\n",
        "\n",
        "  tfl_inter.set_tensor(i_details[\"index\"], i_value_s8)\n",
        "  tfl_inter.invoke()\n",
        "  o_pred = tfl_inter.get_tensor(o_details[\"index\"])[0]\n",
        "\n",
        "  # return (o_pred - o_zero_point) * o_scale\n",
        "  return o_pred\n"
      ]
    },
    {
      "cell_type": "code",
      "source": [
        "import PIL\n",
        "from PIL import Image\n",
        "print('Pillow Version:', PIL.__version__)\n",
        "print(\"number of test images in total\", len(glob.glob(\"/content/drive/MyDrive/Portofolio/fire_detection_quant_aware/combined_test/*/*\")))"
      ],
      "metadata": {
        "id": "eoFU9PeQFon_",
        "colab": {
          "base_uri": "https://localhost:8080/"
        },
        "outputId": "221bdf0a-7ef6-4d5d-a14d-bccefe473da6"
      },
      "execution_count": null,
      "outputs": [
        {
          "output_type": "stream",
          "name": "stdout",
          "text": [
            "Pillow Version: 7.1.2\n",
            "number of test images in total 200\n"
          ]
        }
      ]
    },
    {
      "cell_type": "code",
      "source": [
        "# fire =0   not fire =1\n",
        "num_correct_samples = 0\n",
        "num_total_samples   = len(glob.glob(\"/content/drive/MyDrive/Portofolio/fire_detection_quant_aware/combined_test/*/*\"))\n",
        "\n",
        "ind = 0\n",
        "\n",
        "for img_path in glob.glob(\"/content/drive/MyDrive/Portofolio/fire_detection_quant_aware/combined_test/*/*\"):\n",
        "  image = Image.open(img_path)\n",
        "  image = image.resize(hparams.dim2d) #image resize\n",
        "  image = np.array(image) #convert to numpy\n",
        "  image = image/255.0 #standardize\n",
        "\n",
        "  pred = classify(image)\n",
        "  label = (img_path.split(\"/\")[-2])#contains the true label\n",
        "\n",
        "  if ((pred<0.5)and (label== \"fire\")) or ((pred>=0.5)and (label== \"not_fire\")):\n",
        "    num_correct_samples = num_correct_samples + 1\n",
        "\n",
        "  if ind%50==0:\n",
        "    print(f\"{ind+1} sample\")\n",
        "  ind = ind + 1\n",
        "  \n",
        "\n",
        "acc = num_correct_samples/num_total_samples\n",
        "acc"
      ],
      "metadata": {
        "id": "1qggxqkXHiB1",
        "colab": {
          "base_uri": "https://localhost:8080/"
        },
        "outputId": "7b66a707-019f-41cf-a62d-0c39e476090d"
      },
      "execution_count": null,
      "outputs": [
        {
          "output_type": "stream",
          "name": "stdout",
          "text": [
            "1 sample\n",
            "51 sample\n",
            "101 sample\n",
            "151 sample\n"
          ]
        },
        {
          "output_type": "execute_result",
          "data": {
            "text/plain": [
              "0.8"
            ]
          },
          "metadata": {},
          "execution_count": 59
        }
      ]
    },
    {
      "cell_type": "markdown",
      "metadata": {
        "id": "7H1wNq2pHGPD"
      },
      "source": [
        "## Quantization Aware Model without quantization"
      ]
    },
    {
      "cell_type": "code",
      "execution_count": null,
      "metadata": {
        "colab": {
          "base_uri": "https://localhost:8080/"
        },
        "id": "zPJu704v7PxG",
        "outputId": "fa104cb8-a184-4351-a7d1-a539cb0ca519"
      },
      "outputs": [
        {
          "output_type": "stream",
          "name": "stderr",
          "text": [
            "WARNING:absl:Found untraced functions such as conv2d_layer_call_fn, conv2d_layer_call_and_return_conditional_losses, conv2d_1_layer_call_fn, conv2d_1_layer_call_and_return_conditional_losses, dropout_layer_call_fn while saving (showing 5 of 18). These functions will not be directly callable after loading.\n"
          ]
        },
        {
          "output_type": "stream",
          "name": "stdout",
          "text": [
            "INFO:tensorflow:Assets written to: /tmp/tmpzt6cxd83/assets\n"
          ]
        },
        {
          "output_type": "stream",
          "name": "stderr",
          "text": [
            "INFO:tensorflow:Assets written to: /tmp/tmpzt6cxd83/assets\n",
            "WARNING:absl:Buffer deduplication procedure will be skipped when flatbuffer library is not properly loaded\n"
          ]
        },
        {
          "output_type": "execute_result",
          "data": {
            "text/plain": [
              "605200"
            ]
          },
          "metadata": {},
          "execution_count": 60
        }
      ],
      "source": [
        "converter = tf.lite.TFLiteConverter.from_keras_model(quant_aware_model)\n",
        "\n",
        "tflite_model = converter.convert()\n",
        "open(\"TFLite_Models/model.tflite\",\"wb\").write(tflite_model)"
      ]
    },
    {
      "cell_type": "code",
      "execution_count": null,
      "metadata": {
        "colab": {
          "base_uri": "https://localhost:8080/"
        },
        "id": "lhy22NFuHQ_V",
        "outputId": "8c90e67c-987e-4696-d8a7-16433415e8e6"
      },
      "outputs": [
        {
          "output_type": "stream",
          "name": "stdout",
          "text": [
            "\r0% [Working]\r            \rHit:1 https://developer.download.nvidia.com/compute/cuda/repos/ubuntu1804/x86_64  InRelease\n",
            "Hit:2 https://cloud.r-project.org/bin/linux/ubuntu bionic-cran40/ InRelease\n",
            "Hit:3 http://ppa.launchpad.net/c2d4u.team/c2d4u4.0+/ubuntu bionic InRelease\n",
            "Hit:4 http://security.ubuntu.com/ubuntu bionic-security InRelease\n",
            "Ign:5 https://developer.download.nvidia.com/compute/machine-learning/repos/ubuntu1804/x86_64  InRelease\n",
            "Hit:6 https://developer.download.nvidia.com/compute/machine-learning/repos/ubuntu1804/x86_64  Release\n",
            "Hit:7 http://archive.ubuntu.com/ubuntu bionic InRelease\n",
            "Hit:8 http://ppa.launchpad.net/cran/libgit2/ubuntu bionic InRelease\n",
            "Hit:10 http://archive.ubuntu.com/ubuntu bionic-updates InRelease\n",
            "Hit:11 http://ppa.launchpad.net/deadsnakes/ppa/ubuntu bionic InRelease\n",
            "Hit:12 http://archive.ubuntu.com/ubuntu bionic-backports InRelease\n",
            "Hit:13 http://ppa.launchpad.net/graphics-drivers/ppa/ubuntu bionic InRelease\n",
            "Reading package lists... Done\n"
          ]
        }
      ],
      "source": [
        "!apt-get update && apt-get -qq install xxd\n",
        "!xxd -i TFLite_Models/model.tflite > TFLite_Models/model.h"
      ]
    },
    {
      "cell_type": "code",
      "execution_count": null,
      "metadata": {
        "colab": {
          "base_uri": "https://localhost:8080/"
        },
        "id": "FfwYnan27P00",
        "outputId": "f0f732d6-2bd7-4182-ea21-97d56025dca0"
      },
      "outputs": [
        {
          "output_type": "stream",
          "name": "stdout",
          "text": [
            "Header file in MB: 3.5592756271362305\n",
            "TFLite Model in MB: 0.5771636962890625\n",
            "TFLite Model in KB: 591.015625\n"
          ]
        }
      ],
      "source": [
        "print(\"Header file in MB:\", os.path.getsize(\"TFLite_Models/model.h\") / float(2**20))\n",
        "print(\"TFLite Model in MB:\", os.path.getsize(\"TFLite_Models/model.tflite\") / float(2**20))\n",
        "print(\"TFLite Model in KB:\", os.path.getsize(\"TFLite_Models/model.tflite\") / float(2**10))\n",
        "#print(len(tflite_model)/ float(2**20))"
      ]
    },
    {
      "cell_type": "code",
      "source": [
        "#accuracy evaluator\n",
        "\n",
        "# Initialize the TFLite interpreter\n",
        "tfl_inter = tf.lite.Interpreter(model_content=tflite_model)\n",
        "\n",
        "# Allocate the tensors\n",
        "tfl_inter.allocate_tensors()\n",
        "\n",
        "# Get input/output layer information\n",
        "i_details = tfl_inter.get_input_details()[0]\n",
        "o_details = tfl_inter.get_output_details()[0]\n",
        "\n",
        "\n",
        "def classify(i_data):\n",
        "  \n",
        "  input_data = i_data[np.newaxis, ...] #add batch dimension\n",
        "  i_value_f32 = tf.dtypes.cast(input_data, tf.float32)\n",
        "  \n",
        "\n",
        "  #leave input as it is\n",
        "  i_value_s8 = i_value_f32\n",
        "\n",
        "  tfl_inter.set_tensor(i_details[\"index\"], i_value_s8)\n",
        "  tfl_inter.invoke()\n",
        "  o_pred = tfl_inter.get_tensor(o_details[\"index\"])[0]\n",
        "\n",
        "  # return (o_pred - o_zero_point) * o_scale\n",
        "  return o_pred\n"
      ],
      "metadata": {
        "id": "E36L-ItkODTt"
      },
      "execution_count": null,
      "outputs": []
    },
    {
      "cell_type": "code",
      "source": [
        "import PIL\n",
        "from PIL import Image\n",
        "print('Pillow Version:', PIL.__version__)\n",
        "print(\"number of test images in total\", len(glob.glob(\"/content/drive/MyDrive/Portofolio/fire_detection_quant_aware/combined_test/*/*\")))"
      ],
      "metadata": {
        "colab": {
          "base_uri": "https://localhost:8080/"
        },
        "id": "F5D-YUxXODYr",
        "outputId": "3ce3dfe4-423b-4207-d115-a390569c094b"
      },
      "execution_count": null,
      "outputs": [
        {
          "output_type": "stream",
          "name": "stdout",
          "text": [
            "Pillow Version: 7.1.2\n",
            "number of test images in total 200\n"
          ]
        }
      ]
    },
    {
      "cell_type": "code",
      "source": [
        "# fire =0   not fire =1\n",
        "num_correct_samples = 0\n",
        "num_total_samples   = len(glob.glob(\"/content/drive/MyDrive/Portofolio/fire_detection_quant_aware/combined_test/*/*\"))\n",
        "\n",
        "ind = 0\n",
        "\n",
        "for img_path in glob.glob(\"/content/drive/MyDrive/Portofolio/fire_detection_quant_aware/combined_test/*/*\"):\n",
        "  image = Image.open(img_path)\n",
        "  image = image.resize(hparams.dim2d) #image resize\n",
        "  image = np.array(image) #convert to numpy\n",
        "  image = image/255.0 #standardize\n",
        "\n",
        "  pred = classify(image)\n",
        "  label = (img_path.split(\"/\")[-2])#contains the true label\n",
        "\n",
        "  if ((pred<0.5)and (label== \"fire\")) or ((pred>=0.5)and (label== \"not_fire\")):\n",
        "    num_correct_samples = num_correct_samples + 1\n",
        "\n",
        "  if ind%50==0:\n",
        "    print(f\"{ind+1} sample\")\n",
        "  ind = ind + 1\n",
        "  \n",
        "\n",
        "acc = num_correct_samples/num_total_samples\n",
        "acc"
      ],
      "metadata": {
        "colab": {
          "base_uri": "https://localhost:8080/"
        },
        "id": "OV8EFGe0ODa_",
        "outputId": "e548f8b6-d9a0-41a1-cbe6-3b0ffa9b7921"
      },
      "execution_count": null,
      "outputs": [
        {
          "output_type": "stream",
          "name": "stdout",
          "text": [
            "1 sample\n",
            "51 sample\n",
            "101 sample\n",
            "151 sample\n"
          ]
        },
        {
          "output_type": "execute_result",
          "data": {
            "text/plain": [
              "0.8"
            ]
          },
          "metadata": {},
          "execution_count": 65
        }
      ]
    },
    {
      "cell_type": "markdown",
      "metadata": {
        "id": "KiQlOB7ut5pH"
      },
      "source": [
        "\n",
        "## Original model Full Integer Quantization"
      ]
    },
    {
      "cell_type": "code",
      "execution_count": null,
      "metadata": {
        "id": "jAknakG2wUxz"
      },
      "outputs": [],
      "source": [
        "def representative_data_gen():\n",
        "\n",
        "    imgs = tf.data.Dataset.from_tensor_slices(next(test_generator)[0]).batch(1)\n",
        "    for i in imgs.take(64):#batch size\n",
        "        i = tf.dtypes.cast(i, tf.float32)\n",
        "        yield [i]"
      ]
    },
    {
      "cell_type": "code",
      "execution_count": null,
      "metadata": {
        "colab": {
          "base_uri": "https://localhost:8080/"
        },
        "id": "rKtEkkPAtun2",
        "outputId": "6d63cff8-8ab3-4675-8da9-12a7ef782501"
      },
      "outputs": [
        {
          "output_type": "stream",
          "name": "stdout",
          "text": [
            "INFO:tensorflow:Assets written to: /tmp/tmpy_8aykde/assets\n"
          ]
        },
        {
          "output_type": "stream",
          "name": "stderr",
          "text": [
            "INFO:tensorflow:Assets written to: /tmp/tmpy_8aykde/assets\n",
            "/usr/local/lib/python3.7/dist-packages/tensorflow/lite/python/convert.py:746: UserWarning: Statistics for quantized inputs were expected, but not specified; continuing anyway.\n",
            "  warnings.warn(\"Statistics for quantized inputs were expected, but not \"\n",
            "WARNING:absl:Buffer deduplication procedure will be skipped when flatbuffer library is not properly loaded\n"
          ]
        },
        {
          "output_type": "execute_result",
          "data": {
            "text/plain": [
              "88760"
            ]
          },
          "metadata": {},
          "execution_count": 94
        }
      ],
      "source": [
        "converter = tf.lite.TFLiteConverter.from_keras_model(model)\n",
        "converter.representative_dataset = tf.lite.RepresentativeDataset(representative_data_gen)\n",
        "converter.optimizations = [tf.lite.Optimize.DEFAULT]\n",
        "\n",
        "tflite_model = converter.convert()\n",
        "open(\"TFLite_Models/model.tflite\",\"wb\").write(tflite_model)"
      ]
    },
    {
      "cell_type": "code",
      "execution_count": null,
      "metadata": {
        "colab": {
          "base_uri": "https://localhost:8080/"
        },
        "id": "29fnpmAUtuq1",
        "outputId": "cbf9e7e6-926b-466c-a59a-9de950e1b0cd"
      },
      "outputs": [
        {
          "output_type": "stream",
          "name": "stdout",
          "text": [
            "\r0% [Working]\r            \rHit:1 https://developer.download.nvidia.com/compute/cuda/repos/ubuntu1804/x86_64  InRelease\n",
            "Hit:2 https://cloud.r-project.org/bin/linux/ubuntu bionic-cran40/ InRelease\n",
            "Hit:3 http://security.ubuntu.com/ubuntu bionic-security InRelease\n",
            "Hit:4 http://ppa.launchpad.net/c2d4u.team/c2d4u4.0+/ubuntu bionic InRelease\n",
            "Hit:5 http://archive.ubuntu.com/ubuntu bionic InRelease\n",
            "Hit:6 http://archive.ubuntu.com/ubuntu bionic-updates InRelease\n",
            "Hit:7 http://ppa.launchpad.net/cran/libgit2/ubuntu bionic InRelease\n",
            "Ign:8 https://developer.download.nvidia.com/compute/machine-learning/repos/ubuntu1804/x86_64  InRelease\n",
            "Hit:9 https://developer.download.nvidia.com/compute/machine-learning/repos/ubuntu1804/x86_64  Release\n",
            "Hit:10 http://archive.ubuntu.com/ubuntu bionic-backports InRelease\n",
            "Hit:11 http://ppa.launchpad.net/deadsnakes/ppa/ubuntu bionic InRelease\n",
            "Hit:13 http://ppa.launchpad.net/graphics-drivers/ppa/ubuntu bionic InRelease\n",
            "Reading package lists... Done\n"
          ]
        }
      ],
      "source": [
        "!apt-get update && apt-get -qq install xxd\n",
        "!xxd -c 60 -i TFLite_Models/model.tflite > TFLite_Models/model.h"
      ]
    },
    {
      "cell_type": "code",
      "execution_count": null,
      "metadata": {
        "colab": {
          "base_uri": "https://localhost:8080/"
        },
        "id": "5Mr8tEq8uJhR",
        "outputId": "e91c9bb8-b83e-4065-f108-a866fb92799a"
      },
      "outputs": [
        {
          "output_type": "stream",
          "name": "stdout",
          "text": [
            "Header file in MB: 0.5108089447021484\n",
            "TFLite Model in MB: 0.08464813232421875\n",
            "TFLite Model in KB: 86.6796875\n"
          ]
        }
      ],
      "source": [
        "print(\"Header file in MB:\", os.path.getsize(\"TFLite_Models/model.h\") / float(2**20))\n",
        "print(\"TFLite Model in MB:\", os.path.getsize(\"TFLite_Models/model.tflite\") / float(2**20))\n",
        "print(\"TFLite Model in KB:\", os.path.getsize(\"TFLite_Models/model.tflite\") / float(2**10))\n"
      ]
    },
    {
      "cell_type": "code",
      "execution_count": null,
      "metadata": {
        "id": "YBw7sGT9uJlj"
      },
      "outputs": [],
      "source": [
        "#accuracy evaluator\n",
        "\n",
        "# Initialize the TFLite interpreter\n",
        "tfl_inter = tf.lite.Interpreter(model_content=tflite_model)\n",
        "\n",
        "# Allocate the tensors\n",
        "tfl_inter.allocate_tensors()\n",
        "\n",
        "# Get input/output layer information\n",
        "i_details = tfl_inter.get_input_details()[0]\n",
        "o_details = tfl_inter.get_output_details()[0]\n",
        "\n",
        "\n",
        "\n",
        "def classify(i_data):\n",
        "  \n",
        "  input_data = i_data[np.newaxis, ...] #add batch dimension\n",
        "  i_value_f32 = tf.dtypes.cast(input_data, tf.float32)\n",
        "  \n",
        "\n",
        "  #leave input as it is\n",
        "  i_value_s8 = i_value_f32\n",
        "\n",
        "  tfl_inter.set_tensor(i_details[\"index\"], i_value_s8)\n",
        "  tfl_inter.invoke()\n",
        "  o_pred = tfl_inter.get_tensor(o_details[\"index\"])[0]\n",
        "\n",
        "  # return (o_pred - o_zero_point) * o_scale\n",
        "  return o_pred\n"
      ]
    },
    {
      "cell_type": "code",
      "source": [
        "import PIL\n",
        "from PIL import Image\n",
        "print('Pillow Version:', PIL.__version__)\n",
        "print(\"number of test images in total\", len(glob.glob(\"/content/drive/MyDrive/Portofolio/fire_detection_quant_aware/combined_test/*/*\")))"
      ],
      "metadata": {
        "colab": {
          "base_uri": "https://localhost:8080/"
        },
        "id": "e9VKDQ5vONh-",
        "outputId": "2d0044f2-a36e-42c5-bbd9-ace18fa22939"
      },
      "execution_count": null,
      "outputs": [
        {
          "output_type": "stream",
          "name": "stdout",
          "text": [
            "Pillow Version: 7.1.2\n",
            "number of test images in total 200\n"
          ]
        }
      ]
    },
    {
      "cell_type": "code",
      "source": [
        "# fire =0   not fire =1\n",
        "num_correct_samples = 0\n",
        "num_total_samples   = len(glob.glob(\"/content/drive/MyDrive/Portofolio/fire_detection_quant_aware/combined_test/*/*\"))\n",
        "\n",
        "ind = 0\n",
        "\n",
        "for img_path in glob.glob(\"/content/drive/MyDrive/Portofolio/fire_detection_quant_aware/combined_test/*/*\"):\n",
        "  image = Image.open(img_path)\n",
        "  image = image.resize(hparams.dim2d) #image resize\n",
        "  image = np.array(image) #convert to numpy\n",
        "  image = image/255.0 #standardize\n",
        "\n",
        "  pred = classify(image)\n",
        "  label = (img_path.split(\"/\")[-2])#contains the true label\n",
        "\n",
        "  if ((pred<0.5)and (label== \"fire\")) or ((pred>=0.5)and (label== \"not_fire\")):\n",
        "    num_correct_samples = num_correct_samples + 1\n",
        "\n",
        "  if ind%50==0:\n",
        "    print(f\"{ind+1} sample\")\n",
        "  ind = ind + 1\n",
        "  \n",
        "\n",
        "acc = num_correct_samples/num_total_samples\n",
        "acc"
      ],
      "metadata": {
        "colab": {
          "base_uri": "https://localhost:8080/"
        },
        "id": "JC5GYB1RONnS",
        "outputId": "2c8f6c99-236f-421b-add8-1881411cd489"
      },
      "execution_count": null,
      "outputs": [
        {
          "output_type": "stream",
          "name": "stdout",
          "text": [
            "1 sample\n",
            "51 sample\n",
            "101 sample\n",
            "151 sample\n"
          ]
        },
        {
          "output_type": "execute_result",
          "data": {
            "text/plain": [
              "0.83"
            ]
          },
          "metadata": {},
          "execution_count": 99
        }
      ]
    },
    {
      "cell_type": "markdown",
      "source": [
        "## Original model without quantization"
      ],
      "metadata": {
        "id": "R9YYvxuWDMsg"
      }
    },
    {
      "cell_type": "code",
      "execution_count": null,
      "metadata": {
        "id": "NmeipMUxuJrH",
        "colab": {
          "base_uri": "https://localhost:8080/"
        },
        "outputId": "e0cd8fc5-2dd1-4365-ff17-ae34d2d0001f"
      },
      "outputs": [
        {
          "output_type": "stream",
          "name": "stdout",
          "text": [
            "INFO:tensorflow:Assets written to: /tmp/tmpdmqx_quv/assets\n"
          ]
        },
        {
          "output_type": "stream",
          "name": "stderr",
          "text": [
            "INFO:tensorflow:Assets written to: /tmp/tmpdmqx_quv/assets\n",
            "WARNING:absl:Buffer deduplication procedure will be skipped when flatbuffer library is not properly loaded\n"
          ]
        },
        {
          "output_type": "execute_result",
          "data": {
            "text/plain": [
              "298500"
            ]
          },
          "metadata": {},
          "execution_count": 73
        }
      ],
      "source": [
        "converter = tf.lite.TFLiteConverter.from_keras_model(model)\n",
        "\n",
        "tflite_model = converter.convert()\n",
        "open(\"TFLite_Models/model.tflite\",\"wb\").write(tflite_model)"
      ]
    },
    {
      "cell_type": "code",
      "execution_count": null,
      "metadata": {
        "id": "D2RWpYa6tutF",
        "colab": {
          "base_uri": "https://localhost:8080/"
        },
        "outputId": "925d6ac8-095f-4ec7-8d06-2f935ffa9eae"
      },
      "outputs": [
        {
          "output_type": "stream",
          "name": "stdout",
          "text": [
            "\r0% [Working]\r            \rHit:1 https://developer.download.nvidia.com/compute/cuda/repos/ubuntu1804/x86_64  InRelease\n",
            "Hit:2 https://cloud.r-project.org/bin/linux/ubuntu bionic-cran40/ InRelease\n",
            "Hit:3 http://ppa.launchpad.net/c2d4u.team/c2d4u4.0+/ubuntu bionic InRelease\n",
            "Ign:4 https://developer.download.nvidia.com/compute/machine-learning/repos/ubuntu1804/x86_64  InRelease\n",
            "Hit:5 https://developer.download.nvidia.com/compute/machine-learning/repos/ubuntu1804/x86_64  Release\n",
            "Hit:6 http://security.ubuntu.com/ubuntu bionic-security InRelease\n",
            "Hit:8 http://ppa.launchpad.net/cran/libgit2/ubuntu bionic InRelease\n",
            "Hit:9 http://archive.ubuntu.com/ubuntu bionic InRelease\n",
            "Hit:10 http://archive.ubuntu.com/ubuntu bionic-updates InRelease\n",
            "Hit:11 http://ppa.launchpad.net/deadsnakes/ppa/ubuntu bionic InRelease\n",
            "Hit:12 http://archive.ubuntu.com/ubuntu bionic-backports InRelease\n",
            "Hit:13 http://ppa.launchpad.net/graphics-drivers/ppa/ubuntu bionic InRelease\n",
            "Reading package lists... Done\n"
          ]
        }
      ],
      "source": [
        "!apt-get update && apt-get -qq install xxd\n",
        "!xxd -c 60 -i TFLite_Models/model.tflite > TFLite_Models/model.h"
      ]
    },
    {
      "cell_type": "code",
      "source": [
        "print(\"Header file in MB:\", os.path.getsize(\"TFLite_Models/model.h\") / float(2**20))\n",
        "print(\"TFLite Model in MB:\", os.path.getsize(\"TFLite_Models/model.tflite\") / float(2**20))\n",
        "print(\"TFLite Model in KB:\", os.path.getsize(\"TFLite_Models/model.tflite\") / float(2**10))"
      ],
      "metadata": {
        "id": "A6V2q5wUD3cW",
        "colab": {
          "base_uri": "https://localhost:8080/"
        },
        "outputId": "87b2298e-a49f-4061-978e-cb0550ad8086"
      },
      "execution_count": null,
      "outputs": [
        {
          "output_type": "stream",
          "name": "stdout",
          "text": [
            "Header file in MB: 1.7176179885864258\n",
            "TFLite Model in MB: 0.2846717834472656\n",
            "TFLite Model in KB: 291.50390625\n"
          ]
        }
      ]
    },
    {
      "cell_type": "code",
      "source": [
        "#accuracy evaluator\n",
        "\n",
        "# Initialize the TFLite interpreter\n",
        "tfl_inter = tf.lite.Interpreter(model_content=tflite_model)\n",
        "\n",
        "# Allocate the tensors\n",
        "tfl_inter.allocate_tensors()\n",
        "\n",
        "# Get input/output layer information\n",
        "i_details = tfl_inter.get_input_details()[0]\n",
        "o_details = tfl_inter.get_output_details()[0]\n",
        "\n",
        "\n",
        "def classify(i_data):\n",
        "  \n",
        "  input_data = i_data[np.newaxis, ...] #add batch dimension\n",
        "  i_value_f32 = tf.dtypes.cast(input_data, tf.float32)\n",
        "  \n",
        "  #leave input as it is\n",
        "  i_value_s8 = i_value_f32\n",
        "\n",
        "  tfl_inter.set_tensor(i_details[\"index\"], i_value_s8)\n",
        "  tfl_inter.invoke()\n",
        "  o_pred = tfl_inter.get_tensor(o_details[\"index\"])[0]\n",
        "\n",
        "  # return (o_pred - o_zero_point) * o_scale\n",
        "  return o_pred"
      ],
      "metadata": {
        "id": "62kJwdGuOVB4"
      },
      "execution_count": null,
      "outputs": []
    },
    {
      "cell_type": "code",
      "source": [
        "import PIL\n",
        "from PIL import Image\n",
        "print('Pillow Version:', PIL.__version__)\n",
        "print(\"number of test images in total\", len(glob.glob(\"/content/drive/MyDrive/Portofolio/fire_detection_quant_aware/combined_test/*/*\")))"
      ],
      "metadata": {
        "colab": {
          "base_uri": "https://localhost:8080/"
        },
        "id": "Bt3nsxk5OVFx",
        "outputId": "a4e29b63-6f73-4f3f-98c1-f9d6d5388108"
      },
      "execution_count": null,
      "outputs": [
        {
          "output_type": "stream",
          "name": "stdout",
          "text": [
            "Pillow Version: 7.1.2\n",
            "number of test images in total 200\n"
          ]
        }
      ]
    },
    {
      "cell_type": "code",
      "source": [
        "# fire =0   not fire =1\n",
        "num_correct_samples = 0\n",
        "num_total_samples   = len(glob.glob(\"/content/drive/MyDrive/Portofolio/fire_detection_quant_aware/combined_test/*/*\"))\n",
        "\n",
        "ind = 0\n",
        "\n",
        "for img_path in glob.glob(\"/content/drive/MyDrive/Portofolio/fire_detection_quant_aware/combined_test/*/*\"):\n",
        "  image = Image.open(img_path)\n",
        "  image = image.resize(hparams.dim2d) #image resize\n",
        "  image = np.array(image) #convert to numpy\n",
        "  image = image/255.0 #standardize\n",
        "\n",
        "  pred = classify(image)\n",
        "  label = (img_path.split(\"/\")[-2])#contains the true label\n",
        "\n",
        "  if ((pred<0.5)and (label== \"fire\")) or ((pred>=0.5)and (label== \"not_fire\")):\n",
        "    num_correct_samples = num_correct_samples + 1\n",
        "\n",
        "  if ind%50==0:\n",
        "    print(f\"{ind+1} sample\")\n",
        "  ind = ind + 1\n",
        "  \n",
        "\n",
        "acc = num_correct_samples/num_total_samples\n",
        "acc"
      ],
      "metadata": {
        "colab": {
          "base_uri": "https://localhost:8080/"
        },
        "id": "mKYz1L4qOVH3",
        "outputId": "6cf21d0b-73d2-4885-de47-bd3a96a566ce"
      },
      "execution_count": null,
      "outputs": [
        {
          "output_type": "stream",
          "name": "stdout",
          "text": [
            "1 sample\n",
            "51 sample\n",
            "101 sample\n",
            "151 sample\n"
          ]
        },
        {
          "output_type": "execute_result",
          "data": {
            "text/plain": [
              "0.83"
            ]
          },
          "metadata": {},
          "execution_count": 78
        }
      ]
    },
    {
      "cell_type": "markdown",
      "source": [
        "## Quantization Aware Model Full Integer Quantization with Input Quantization too"
      ],
      "metadata": {
        "id": "0MfCJoZrMnzB"
      }
    },
    {
      "cell_type": "code",
      "source": [
        "def representative_data_gen():\n",
        "\n",
        "    imgs = tf.data.Dataset.from_tensor_slices(next(test_generator)[0]).batch(1)\n",
        "    for i in imgs.take(64):#batch size\n",
        "        i = tf.dtypes.cast(i, tf.float32)\n",
        "        yield [i]"
      ],
      "metadata": {
        "id": "vpp-6tnSgyDD"
      },
      "execution_count": null,
      "outputs": []
    },
    {
      "cell_type": "code",
      "source": [
        "converter = tf.lite.TFLiteConverter.from_keras_model(quant_aware_model)\n",
        "converter.representative_dataset = tf.lite.RepresentativeDataset(representative_data_gen)\n",
        "converter.optimizations = [tf.lite.Optimize.DEFAULT]\n",
        "converter.target_spec.supported_ops = [tf.lite.OpsSet.TFLITE_BUILTINS_INT8]\n",
        "converter.inference_input_type = tf.int8\n",
        "\n",
        "tflite_model = converter.convert()\n",
        "open(\"TFLite_Models/model.tflite\",\"wb\").write(tflite_model)"
      ],
      "metadata": {
        "colab": {
          "base_uri": "https://localhost:8080/"
        },
        "id": "sxIjVCwlNBT_",
        "outputId": "42e73a70-314d-44b6-b214-eb8b80c64986"
      },
      "execution_count": null,
      "outputs": [
        {
          "output_type": "stream",
          "name": "stderr",
          "text": [
            "WARNING:absl:Found untraced functions such as conv2d_layer_call_fn, conv2d_layer_call_and_return_conditional_losses, conv2d_1_layer_call_fn, conv2d_1_layer_call_and_return_conditional_losses, dropout_layer_call_fn while saving (showing 5 of 18). These functions will not be directly callable after loading.\n"
          ]
        },
        {
          "output_type": "stream",
          "name": "stdout",
          "text": [
            "INFO:tensorflow:Assets written to: /tmp/tmpdlplb5ip/assets\n"
          ]
        },
        {
          "output_type": "stream",
          "name": "stderr",
          "text": [
            "INFO:tensorflow:Assets written to: /tmp/tmpdlplb5ip/assets\n",
            "/usr/local/lib/python3.7/dist-packages/tensorflow/lite/python/convert.py:746: UserWarning: Statistics for quantized inputs were expected, but not specified; continuing anyway.\n",
            "  warnings.warn(\"Statistics for quantized inputs were expected, but not \"\n",
            "WARNING:absl:Buffer deduplication procedure will be skipped when flatbuffer library is not properly loaded\n"
          ]
        },
        {
          "output_type": "execute_result",
          "data": {
            "text/plain": [
              "89280"
            ]
          },
          "metadata": {},
          "execution_count": 87
        }
      ]
    },
    {
      "cell_type": "code",
      "source": [
        "!apt-get update && apt-get -qq install xxd\n",
        "!xxd -c 60 -i TFLite_Models/model.tflite > TFLite_Models/model.h"
      ],
      "metadata": {
        "colab": {
          "base_uri": "https://localhost:8080/"
        },
        "id": "iqd65R-PNBXh",
        "outputId": "5e9ba21f-7e3d-4ca2-f870-eb0a503c0f42"
      },
      "execution_count": null,
      "outputs": [
        {
          "output_type": "stream",
          "name": "stdout",
          "text": [
            "\r0% [Working]\r            \rHit:1 https://developer.download.nvidia.com/compute/cuda/repos/ubuntu1804/x86_64  InRelease\n",
            "Hit:2 https://cloud.r-project.org/bin/linux/ubuntu bionic-cran40/ InRelease\n",
            "Hit:3 http://ppa.launchpad.net/c2d4u.team/c2d4u4.0+/ubuntu bionic InRelease\n",
            "Ign:4 https://developer.download.nvidia.com/compute/machine-learning/repos/ubuntu1804/x86_64  InRelease\n",
            "Hit:5 https://developer.download.nvidia.com/compute/machine-learning/repos/ubuntu1804/x86_64  Release\n",
            "Hit:6 http://security.ubuntu.com/ubuntu bionic-security InRelease\n",
            "Hit:7 http://archive.ubuntu.com/ubuntu bionic InRelease\n",
            "Hit:9 http://ppa.launchpad.net/cran/libgit2/ubuntu bionic InRelease\n",
            "Hit:10 http://archive.ubuntu.com/ubuntu bionic-updates InRelease\n",
            "Hit:11 http://archive.ubuntu.com/ubuntu bionic-backports InRelease\n",
            "Hit:12 http://ppa.launchpad.net/deadsnakes/ppa/ubuntu bionic InRelease\n",
            "Hit:13 http://ppa.launchpad.net/graphics-drivers/ppa/ubuntu bionic InRelease\n",
            "Reading package lists... Done\n"
          ]
        }
      ]
    },
    {
      "cell_type": "code",
      "source": [
        "print(\"Header file in MB:\", os.path.getsize(\"TFLite_Models/model.h\") / float(2**20))\n",
        "print(\"TFLite Model in MB:\", os.path.getsize(\"TFLite_Models/model.tflite\") / float(2**20))\n",
        "print(\"TFLite Model in KB:\", os.path.getsize(\"TFLite_Models/model.tflite\") / float(2**10))"
      ],
      "metadata": {
        "colab": {
          "base_uri": "https://localhost:8080/"
        },
        "id": "tpduPtQpNBaq",
        "outputId": "73a795c8-06fc-4db9-b097-0da578cb4b72"
      },
      "execution_count": null,
      "outputs": [
        {
          "output_type": "stream",
          "name": "stdout",
          "text": [
            "Header file in MB: 0.5137996673583984\n",
            "TFLite Model in MB: 0.08514404296875\n",
            "TFLite Model in KB: 87.1875\n"
          ]
        }
      ]
    },
    {
      "cell_type": "code",
      "source": [
        "#accuracy evaluator\n",
        "\n",
        "# Initialize the TFLite interpreter\n",
        "tfl_inter = tf.lite.Interpreter(model_content=tflite_model)\n",
        "\n",
        "# Allocate the tensors\n",
        "tfl_inter.allocate_tensors()\n",
        "\n",
        "# Get input/output layer information\n",
        "i_details = tfl_inter.get_input_details()[0]\n",
        "o_details = tfl_inter.get_output_details()[0]\n",
        "\n",
        "i_quant = i_details[\"quantization_parameters\"]\n",
        "o_quant = o_details[\"quantization_parameters\"]\n",
        "i_scale      = i_quant['scales'][0]\n",
        "i_zero_point = i_quant['zero_points'][0]\n",
        "\n",
        "\n",
        "\n",
        "def classify(i_data):\n",
        "  \n",
        "  input_data = i_data[np.newaxis, ...] #add batch dimension\n",
        "  i_value_f32 = tf.dtypes.cast(input_data, tf.float32)\n",
        "  \n",
        "  # Quantize (float -> 8-bit) the input (check if input layer is 8-bit, first)\n",
        "  i_value_f32 = i_value_f32 / i_scale + i_zero_point\n",
        "  i_value_s8 = tf.cast(i_value_f32, dtype=tf.int8)\n",
        "\n",
        "\n",
        "  tfl_inter.set_tensor(i_details[\"index\"], i_value_s8)\n",
        "  tfl_inter.invoke()\n",
        "  o_pred = tfl_inter.get_tensor(o_details[\"index\"])[0]\n",
        "\n",
        "  return o_pred\n"
      ],
      "metadata": {
        "id": "owLwgaG9NBhJ"
      },
      "execution_count": null,
      "outputs": []
    },
    {
      "cell_type": "code",
      "source": [
        "import PIL\n",
        "from PIL import Image\n",
        "print('Pillow Version:', PIL.__version__)\n",
        "print(\"number of test images in total\", len(glob.glob(\"/content/drive/MyDrive/Portofolio/fire_detection_quant_aware/combined_test/*/*\")))"
      ],
      "metadata": {
        "colab": {
          "base_uri": "https://localhost:8080/"
        },
        "id": "58dwi5hhNBiz",
        "outputId": "779d6a25-7e31-4cb7-d0aa-4c2b1849617d"
      },
      "execution_count": null,
      "outputs": [
        {
          "output_type": "stream",
          "name": "stdout",
          "text": [
            "Pillow Version: 7.1.2\n",
            "number of test images in total 200\n"
          ]
        }
      ]
    },
    {
      "cell_type": "code",
      "source": [
        "# fire =0   not fire =1\n",
        "num_correct_samples = 0\n",
        "num_total_samples   = len(glob.glob(\"/content/drive/MyDrive/Portofolio/fire_detection_quant_aware/combined_test/*/*\"))\n",
        "\n",
        "ind = 0\n",
        "\n",
        "for img_path in glob.glob(\"/content/drive/MyDrive/Portofolio/fire_detection_quant_aware/combined_test/*/*\"):\n",
        "  image = Image.open(img_path)\n",
        "  image = image.resize(hparams.dim2d) #image resize\n",
        "  image = np.array(image) #convert to numpy\n",
        "  image = image/255.0 #standardize\n",
        "\n",
        "  pred = classify(image)\n",
        "  label = (img_path.split(\"/\")[-2])#contains the true label\n",
        "  # print(pred,label)\n",
        "\n",
        "  #output quantization results to weird results, thus it is better to leave as default. Also, the memory impact won't be to significant \n",
        "  if ((pred<0.5)and (label== \"fire\")) or ((pred>=0.5)and (label== \"not_fire\")):\n",
        "    num_correct_samples = num_correct_samples + 1\n",
        "\n",
        "  if ind%50==0:\n",
        "    print(f\"{ind+1} sample\")\n",
        "  ind = ind + 1\n",
        "  \n",
        "\n",
        "acc = num_correct_samples/num_total_samples\n",
        "acc"
      ],
      "metadata": {
        "colab": {
          "base_uri": "https://localhost:8080/"
        },
        "id": "lAgA0iKaNBkK",
        "outputId": "579e884e-ca69-4889-e983-a7348b1d477a"
      },
      "execution_count": null,
      "outputs": [
        {
          "output_type": "stream",
          "name": "stdout",
          "text": [
            "1 sample\n",
            "51 sample\n",
            "101 sample\n",
            "151 sample\n"
          ]
        },
        {
          "output_type": "execute_result",
          "data": {
            "text/plain": [
              "0.8"
            ]
          },
          "metadata": {},
          "execution_count": 92
        }
      ]
    },
    {
      "cell_type": "markdown",
      "source": [
        "## Original Model Full Integer Quantization with Input Quantization too"
      ],
      "metadata": {
        "id": "-1XEE0UlZl2C"
      }
    },
    {
      "cell_type": "code",
      "source": [
        "def representative_data_gen():\n",
        "\n",
        "    imgs = tf.data.Dataset.from_tensor_slices(next(test_generator)[0]).batch(1)\n",
        "    for i in imgs.take(64):#batch size\n",
        "        i = tf.dtypes.cast(i, tf.float32)\n",
        "        yield [i]"
      ],
      "metadata": {
        "id": "65iz-nC4NBle"
      },
      "execution_count": null,
      "outputs": []
    },
    {
      "cell_type": "code",
      "source": [
        "converter = tf.lite.TFLiteConverter.from_keras_model(model)\n",
        "converter.representative_dataset = tf.lite.RepresentativeDataset(representative_data_gen)\n",
        "converter.optimizations = [tf.lite.Optimize.DEFAULT]\n",
        "converter.target_spec.supported_ops = [tf.lite.OpsSet.TFLITE_BUILTINS_INT8]\n",
        "converter.inference_input_type = tf.int8\n",
        "# converter.inference_output_type = tf.int8\n",
        "\n",
        "tflite_model = converter.convert()\n",
        "open(\"TFLite_Models/model.tflite\",\"wb\").write(tflite_model)"
      ],
      "metadata": {
        "id": "ciK8_2WIgyEn",
        "colab": {
          "base_uri": "https://localhost:8080/"
        },
        "outputId": "a29710e9-c883-45ee-c172-8db1812aa1aa"
      },
      "execution_count": null,
      "outputs": [
        {
          "output_type": "stream",
          "name": "stdout",
          "text": [
            "INFO:tensorflow:Assets written to: /tmp/tmpli1ygnq9/assets\n"
          ]
        },
        {
          "output_type": "stream",
          "name": "stderr",
          "text": [
            "INFO:tensorflow:Assets written to: /tmp/tmpli1ygnq9/assets\n",
            "/usr/local/lib/python3.7/dist-packages/tensorflow/lite/python/convert.py:746: UserWarning: Statistics for quantized inputs were expected, but not specified; continuing anyway.\n",
            "  warnings.warn(\"Statistics for quantized inputs were expected, but not \"\n",
            "WARNING:absl:Buffer deduplication procedure will be skipped when flatbuffer library is not properly loaded\n"
          ]
        },
        {
          "output_type": "execute_result",
          "data": {
            "text/plain": [
              "88592"
            ]
          },
          "metadata": {},
          "execution_count": 80
        }
      ]
    },
    {
      "cell_type": "code",
      "source": [
        "!apt-get update && apt-get -qq install xxd\n",
        "!xxd -c 60 -i TFLite_Models/model.tflite > TFLite_Models/model.h"
      ],
      "metadata": {
        "id": "Ll3tseppgyFr",
        "colab": {
          "base_uri": "https://localhost:8080/"
        },
        "outputId": "98ef620e-184c-48da-a986-9ef31e68bd8c"
      },
      "execution_count": null,
      "outputs": [
        {
          "output_type": "stream",
          "name": "stdout",
          "text": [
            "\r0% [Working]\r            \rHit:1 https://developer.download.nvidia.com/compute/cuda/repos/ubuntu1804/x86_64  InRelease\n",
            "Hit:2 https://cloud.r-project.org/bin/linux/ubuntu bionic-cran40/ InRelease\n",
            "Hit:3 http://ppa.launchpad.net/c2d4u.team/c2d4u4.0+/ubuntu bionic InRelease\n",
            "Hit:4 http://security.ubuntu.com/ubuntu bionic-security InRelease\n",
            "Ign:5 https://developer.download.nvidia.com/compute/machine-learning/repos/ubuntu1804/x86_64  InRelease\n",
            "Hit:6 https://developer.download.nvidia.com/compute/machine-learning/repos/ubuntu1804/x86_64  Release\n",
            "Hit:7 http://archive.ubuntu.com/ubuntu bionic InRelease\n",
            "Hit:8 http://archive.ubuntu.com/ubuntu bionic-updates InRelease\n",
            "Hit:9 http://ppa.launchpad.net/cran/libgit2/ubuntu bionic InRelease\n",
            "Hit:11 http://archive.ubuntu.com/ubuntu bionic-backports InRelease\n",
            "Hit:12 http://ppa.launchpad.net/deadsnakes/ppa/ubuntu bionic InRelease\n",
            "Hit:13 http://ppa.launchpad.net/graphics-drivers/ppa/ubuntu bionic InRelease\n",
            "Reading package lists... Done\n"
          ]
        }
      ]
    },
    {
      "cell_type": "code",
      "source": [
        "print(\"Header file in MB:\", os.path.getsize(\"TFLite_Models/model.h\") / float(2**20))\n",
        "print(\"TFLite Model in MB:\", os.path.getsize(\"TFLite_Models/model.tflite\") / float(2**20))\n",
        "print(\"TFLite Model in KB:\", os.path.getsize(\"TFLite_Models/model.tflite\") / float(2**10))\n",
        "#print(len(tflite_model)/ float(2**20))"
      ],
      "metadata": {
        "colab": {
          "base_uri": "https://localhost:8080/"
        },
        "id": "dn6SJeXOauT9",
        "outputId": "1830f83b-e045-4bbe-f6ba-9de045d49f89"
      },
      "execution_count": null,
      "outputs": [
        {
          "output_type": "stream",
          "name": "stdout",
          "text": [
            "Header file in MB: 0.5098419189453125\n",
            "TFLite Model in MB: 0.0844879150390625\n",
            "TFLite Model in KB: 86.515625\n"
          ]
        }
      ]
    },
    {
      "cell_type": "code",
      "source": [
        "#accuracy evaluator\n",
        "\n",
        "# Initialize the TFLite interpreter\n",
        "tfl_inter = tf.lite.Interpreter(model_content=tflite_model)\n",
        "\n",
        "# Allocate the tensors\n",
        "tfl_inter.allocate_tensors()\n",
        "\n",
        "# Get input/output layer information\n",
        "i_details = tfl_inter.get_input_details()[0]\n",
        "o_details = tfl_inter.get_output_details()[0]\n",
        "\n",
        "i_quant = i_details[\"quantization_parameters\"]\n",
        "o_quant = o_details[\"quantization_parameters\"]\n",
        "i_scale      = i_quant['scales'][0]\n",
        "i_zero_point = i_quant['zero_points'][0]\n",
        "\n",
        "\n",
        "\n",
        "def classify(i_data):\n",
        "  \n",
        "  input_data = i_data[np.newaxis, ...] #add batch dimension\n",
        "  i_value_f32 = tf.dtypes.cast(input_data, tf.float32)\n",
        "  \n",
        "  # Quantize (float -> 8-bit) the input (check if input layer is 8-bit, first)\n",
        "  i_value_f32 = i_value_f32 / i_scale + i_zero_point\n",
        "  i_value_s8 = tf.cast(i_value_f32, dtype=tf.int8)\n",
        "\n",
        "\n",
        "\n",
        "  tfl_inter.set_tensor(i_details[\"index\"], i_value_s8)\n",
        "  tfl_inter.invoke()\n",
        "  o_pred = tfl_inter.get_tensor(o_details[\"index\"])[0]\n",
        "\n",
        "  return o_pred\n"
      ],
      "metadata": {
        "id": "LEv10B94auXr"
      },
      "execution_count": null,
      "outputs": []
    },
    {
      "cell_type": "code",
      "source": [
        "import PIL\n",
        "from PIL import Image\n",
        "print('Pillow Version:', PIL.__version__)\n",
        "print(\"number of test images in total\", len(glob.glob(\"/content/drive/MyDrive/Portofolio/fire_detection_quant_aware/combined_test/*/*\")))"
      ],
      "metadata": {
        "colab": {
          "base_uri": "https://localhost:8080/"
        },
        "id": "UVyxHn61auZi",
        "outputId": "f110aa60-f1c8-4d5e-8df0-a705b9132c47"
      },
      "execution_count": null,
      "outputs": [
        {
          "output_type": "stream",
          "name": "stdout",
          "text": [
            "Pillow Version: 7.1.2\n",
            "number of test images in total 200\n"
          ]
        }
      ]
    },
    {
      "cell_type": "code",
      "source": [
        "# fire =0   not fire =1\n",
        "num_correct_samples = 0\n",
        "num_total_samples   = len(glob.glob(\"/content/drive/MyDrive/Portofolio/fire_detection_quant_aware/combined_test/*/*\"))\n",
        "\n",
        "ind = 0\n",
        "\n",
        "for img_path in glob.glob(\"/content/drive/MyDrive/Portofolio/fire_detection_quant_aware/combined_test/*/*\"):\n",
        "  image = Image.open(img_path)\n",
        "  image = image.resize(hparams.dim2d) #image resize\n",
        "  image = np.array(image) #convert to numpy\n",
        "  image = image/255.0 #standardize\n",
        "\n",
        "  pred = classify(image)\n",
        "  label = (img_path.split(\"/\")[-2])#contains the true label\n",
        "  #print(pred,label)\n",
        "  #break\n",
        "\n",
        "  #output quantization results to weird results, thus it is better to leave as default. Also, the memory impact won't be to significant \n",
        "  if ((pred<=0.5)and (label== \"fire\")) or ((pred>0.5)and (label== \"not_fire\")):\n",
        "    num_correct_samples = num_correct_samples + 1\n",
        "\n",
        "  if ind%50==0:\n",
        "    print(f\"{ind+1} sample\")\n",
        "  ind = ind + 1\n",
        "  \n",
        "\n",
        "acc = num_correct_samples/num_total_samples\n",
        "acc"
      ],
      "metadata": {
        "colab": {
          "base_uri": "https://localhost:8080/"
        },
        "id": "SDB0UYL3audz",
        "outputId": "3e308914-5071-476b-b5e5-cf04480a9d1a"
      },
      "execution_count": null,
      "outputs": [
        {
          "output_type": "stream",
          "name": "stdout",
          "text": [
            "1 sample\n",
            "51 sample\n",
            "101 sample\n",
            "151 sample\n"
          ]
        },
        {
          "output_type": "execute_result",
          "data": {
            "text/plain": [
              "0.825"
            ]
          },
          "metadata": {},
          "execution_count": 85
        }
      ]
    },
    {
      "cell_type": "markdown",
      "source": [
        "## create an image as example"
      ],
      "metadata": {
        "id": "OmxBPoLnjX2p"
      }
    },
    {
      "cell_type": "code",
      "source": [
        "import sys\n",
        "import numpy\n",
        "np.set_printoptions(threshold=sys.maxsize)\n",
        "\n",
        "for img_path in glob.glob(\"/content/drive/MyDrive/Portofolio/fire_detection_quant_aware/combined_test/*/*\"):\n",
        "  image = Image.open(img_path)\n",
        "  image = image.resize(hparams.dim2d) #image resize\n",
        "  image = np.array(image) #convert to numpy\n",
        "  \n",
        "  label = (img_path.split(\"/\")[-2])#contains the true label\n",
        "  print(label)\n",
        "  break\n",
        "\n",
        "image.flatten()"
      ],
      "metadata": {
        "colab": {
          "base_uri": "https://localhost:8080/"
        },
        "id": "Qfnt7VqXjZYx",
        "outputId": "ddccc1e8-15b5-478a-e6c2-37e7a88b4d9f"
      },
      "execution_count": null,
      "outputs": [
        {
          "output_type": "stream",
          "name": "stdout",
          "text": [
            "fire\n"
          ]
        },
        {
          "output_type": "execute_result",
          "data": {
            "text/plain": [
              "array([ 18,  12,  12,  20,  14,  14,  20,  14,  14,  25,  16,  15,  26,\n",
              "        16,  15,  23,  13,  12,  17,   7,   6,  18,   8,   7,  20,  10,\n",
              "         9,  21,  11,  10,  21,   8,   8,  25,  10,  10,  24,  11,   6,\n",
              "        23,   9,   7,  23,   9,   9,  22,   8,   8,  23,   9,   9,  20,\n",
              "         7,   7,  14,   2,   4,  15,   3,   5,  16,   4,   5,  15,   3,\n",
              "         3,  15,   4,   3,  19,   3,   6,  21,   3,   8,  25,   5,   7,\n",
              "        36,   4,   8,  35,   9,   8,  41,  15,   6,  43,  18,   9,  31,\n",
              "         8,   3,  35,   7,   2,  46,  15,   9,  49,  15,   6,  45,  17,\n",
              "         9,  36,  15,  14,  34,  11,   8,  33,  13,   4,  29,  10,   4,\n",
              "        20,   4,   1,  14,   2,   1,  15,   3,   2,  27,  11,   5,  32,\n",
              "        11,   7,  35,  13,   6,  28,   9,   3,  19,   6,   5,  14,   3,\n",
              "         4,  19,  13,  13,  24,  18,  18,  17,  11,  10,  27,  17,  15,\n",
              "        28,  18,  16,  22,  12,  10,  19,   9,   6,  20,  10,   7,  22,\n",
              "        12,   9,  21,  11,   9,  22,  10,   8,  26,  11,   9,  29,  13,\n",
              "         7,  23,   8,   5,  23,   7,   7,  23,   7,   7,  25,   9,   8,\n",
              "        23,   8,   8,  19,   5,   6,  20,   6,   7,  19,   5,   5,  19,\n",
              "         6,   4,  20,   7,   5,  19,   6,   5,  20,   7,   6,  25,   7,\n",
              "         5,  32,   7,   5,  37,  11,   8,  41,  12,   3,  41,  12,   4,\n",
              "        35,   8,   6,  44,  14,  14,  46,  15,  13,  51,  17,   8,  42,\n",
              "        14,   5,  36,  14,  12,  40,  16,   9,  41,  15,   3,  35,  12,\n",
              "         6,  25,   8,   5,  17,   3,   2,  25,  10,   7,  33,  15,   8,\n",
              "        30,   8,   4,  41,  17,   9,  35,  14,   7,  23,   9,   7,  13,\n",
              "         1,   1,  23,  17,  17,  25,  19,  19,  19,  13,  13,  31,  23,\n",
              "        16,  30,  21,  15,  27,  17,  11,  29,  16,  11,  30,  17,  12,\n",
              "        26,  13,   8,  21,  12,   6,  22,  11,   6,  28,  13,   8,  32,\n",
              "        14,   6,  28,  10,   5,  27,   7,   5,  26,   7,   5,  27,   8,\n",
              "         5,  26,   7,   5,  23,   6,   6,  23,   6,   6,  26,  10,   9,\n",
              "        33,  17,  13,  30,  14,  10,  22,   9,   4,  26,  11,   6,  44,\n",
              "        20,  14,  41,  18,  11,  37,  13,   7,  52,  20,  13,  61,  26,\n",
              "        18,  42,  11,   5,  43,  13,  13,  38,   8,   8,  50,  16,   6,\n",
              "        42,  13,   5,  27,   9,   7,  30,  11,   5,  37,  11,   2,  34,\n",
              "         8,   5,  28,   9,   6,  18,   1,   2,  28,  11,   7,  37,  17,\n",
              "         7,  39,  14,   6,  45,  19,   9,  36,  14,   4,  28,  12,   7,\n",
              "        21,   5,   4,  21,  15,  15,  26,  21,  21,  18,  13,  12,  24,\n",
              "        16,   9,  31,  22,  14,  29,  19,  11,  27,  12,   8,  28,  13,\n",
              "         9,  23,  10,   5,  18,  10,   4,  27,  15,   9,  36,  20,  13,\n",
              "        35,  16,   6,  36,  17,  10,  27,   9,   4,  28,   9,   5,  32,\n",
              "        14,   9,  26,   8,   4,  26,   8,   6,  25,   7,   4,  28,  10,\n",
              "         8,  31,  13,   9,  31,  14,   9,  30,  13,   7,  44,  21,  15,\n",
              "        51,  19,  14,  35,  11,   4,  34,   9,   3,  74,  37,  26,  96,\n",
              "        56,  41,  51,  16,   1,  40,  10,   5,  34,   6,   4,  43,  11,\n",
              "         3,  37,  10,   2,  17,   4,   4,  13,   3,   2,  31,  12,  10,\n",
              "        31,   8,   8,  28,   6,   4,  25,   5,   6,  32,  12,   7,  36,\n",
              "        14,   3,  40,  14,   4,  45,  16,   5,  38,  13,   3,  31,  12,\n",
              "         6,  27,   9,   6,  19,  17,  15,  20,  18,  17,  18,  17,  15,\n",
              "        22,  17,  12,  31,  21,  12,  40,  24,  12,  36,  16,  13,  23,\n",
              "         9,  11,  23,   8,   5,  26,  14,   6,  39,  19,  10,  48,  21,\n",
              "        10,  45,  20,   6,  39,  20,  10,  30,  13,   7,  39,  15,   8,\n",
              "        35,  14,   9,  32,  13,   9,  31,  14,  10,  31,  12,   8,  28,\n",
              "        10,   8,  24,   8,   9,  30,  17,  14,  31,  19,  13,  30,  11,\n",
              "         9,  24,   9,   6,  44,  14,   9,  77,  31,  12,  83,  28,   9,\n",
              "        61,  18,  10,  84,  32,  11,  61,  19,   7,  33,   8,   8,  33,\n",
              "        13,   6,  32,  15,   6,  31,  12,   7,  17,   2,   2,  26,   9,\n",
              "        12,  21,   5,   6,  20,   2,   1,  33,   9,   4,  45,  21,  12,\n",
              "        34,  10,   6,  40,  13,   2,  48,  17,   6,  46,  16,  10,  39,\n",
              "        11,   8,  34,  11,   7,  13,  12,  10,  16,  15,  13,  15,  13,\n",
              "        11,  26,  19,  15,  41,  28,  20,  47,  29,  17,  33,  15,  12,\n",
              "        22,   7,   8,  39,  16,   9,  61,  30,  10,  58,  30,  13,  51,\n",
              "        23,  11,  52,  20,   8,  48,  22,  15,  36,  12,   8,  56,  23,\n",
              "        16,  54,  23,  18,  40,  15,  12,  29,  14,  10,  34,  18,  15,\n",
              "        30,  17,  15,  19,  10,  12,  16,   6,   5,  10,   3,   2,  24,\n",
              "         8,  14,  55,  27,  20,  88,  31,  12,  95,  26,   3,  88,  33,\n",
              "        10,  58,  22,  18,  94,  32,  20,  85,  29,  10,  59,  20,   8,\n",
              "        49,  19,   6,  44,  20,   6,  44,  17,   7,  32,   8,   4,  35,\n",
              "        11,   9,  24,   4,   3,  20,   1,   1,  35,  10,   5,  49,  23,\n",
              "        11,  40,  15,   5,  46,  16,  11,  44,  12,   6,  43,  13,   6,\n",
              "        39,  11,   8,  33,  10,   5,  17,  16,  14,  22,  21,  19,  14,\n",
              "        13,  11,  29,  19,  15,  45,  29,  21,  51,  31,  20,  27,  10,\n",
              "         8,  29,  12,  10,  61,  32,  20,  68,  30,   8,  61,  30,  10,\n",
              "        54,  27,  10,  51,  20,   9,  39,  14,   8,  28,   9,   5,  24,\n",
              "        10,   5,  20,   9,   5,  13,   4,   3,  14,   3,   3,  16,   4,\n",
              "         4,  13,   2,   2,  14,   6,   6,  37,  22,  20,  26,  14,  13,\n",
              "        12,   1,   7,  26,   6,   3,  83,  34,  17, 111,  42,  13,  99,\n",
              "        41,  13,  54,  17,  13,  86,  26,  15,  91,  28,   3,  79,  28,\n",
              "         8,  55,  17,   5,  43,  15,   4,  42,  15,   6,  39,  13,   5,\n",
              "        39,  13,  10,  27,   5,   3,  27,   5,   5,  42,  13,  10,  46,\n",
              "        17,   6,  46,  18,  10,  51,  19,  13,  46,  13,   7,  37,   7,\n",
              "         2,  35,   8,   4,  31,   8,   4,  22,  20,  19,  28,  27,  26,\n",
              "        22,  20,  19,  23,  13,  12,  52,  32,  26,  55,  32,  20,  25,\n",
              "         7,   6,  35,  15,  11,  50,  21,   9,  51,  20,   6,  55,  24,\n",
              "         5,  54,  25,   4,  46,  20,   6,  34,  12,   4,  24,   8,   4,\n",
              "        25,   8,  10,  20,   5,   6,  23,   7,   7,  27,   9,   6,  29,\n",
              "        11,   9,  34,  17,  12,  33,  15,   9,  51,  25,  21,  41,  21,\n",
              "        16,   7,   1,   1,   7,   5,   7,  47,  23,  17,  76,  27,   9,\n",
              "        96,  39,  18,  75,  35,  28,  85,  36,  17,  97,  33,   6,  77,\n",
              "        23,   6,  57,  20,   9,  36,  12,   5,  30,   7,   3,  31,  10,\n",
              "         5,  30,   8,   7,  28,   6,   5,  29,   4,   5,  43,  13,  10,\n",
              "        39,   9,   6,  41,  11,   9,  53,  19,   8,  52,  18,   7,  41,\n",
              "        11,   5,  38,  10,   6,  32,   9,   4,  21,  19,  18,  32,  29,\n",
              "        36,  25,  24,  27,  20,  15,  19,  52,  28,  24,  61,  35,  21,\n",
              "        40,  21,  19,  60,  31,  19,  38,  17,   9,  47,  23,   9,  69,\n",
              "        33,  11,  69,  34,  14,  65,  32,  15,  68,  31,  13,  37,  14,\n",
              "         6,  48,  18,  13,  77,  31,   7,  98,  41,   7, 100,  39,  12,\n",
              "        98,  37,  11, 103,  44,  13,  94,  36,  16,  98,  41,  24,  56,\n",
              "        28,  19,   4,   1,   1,  10,   3,   6,  83,  37,  12,  89,  38,\n",
              "        14,  84,  40,  23,  74,  46,  42,  50,  20,  11,  88,  30,  13,\n",
              "        78,  28,  11,  39,  10,   4,  26,   6,   6,  29,   4,   4,  35,\n",
              "        11,   9,  36,  11,   6,  31,   6,   2,  32,   8,   4,  38,  13,\n",
              "         8,  27,   7,   6,  42,  16,  11,  59,  22,   7,  51,  16,   4,\n",
              "        42,  12,   4,  36,   9,   4,  37,  11,   6,  20,  19,  19,  33,\n",
              "        30,  39,  32,  30,  34,  24,  14,  15,  33,  15,  11,  29,  17,\n",
              "        13,  48,  29,  21, 107,  65,  43,  75,  36,  21,  58,  27,  12,\n",
              "        74,  35,   8,  71,  33,   6,  66,  28,  11,  60,  29,  15,  43,\n",
              "        17,  10,  55,  18,  11, 104,  42,  11, 110,  43,   6, 110,  45,\n",
              "         7, 109,  45,   7, 113,  46,   9, 119,  48,  12, 130,  63,  18,\n",
              "        79,  42,  32,   2,   0,   1,  11,   3,   7,  91,  39,  12, 116,\n",
              "        45,  12, 105,  42,  14,  35,   9,   6,  14,   4,   2,  57,  18,\n",
              "         8,  53,  19,   8,  19,   2,   2,  12,   1,   5,  24,   4,   5,\n",
              "        31,  10,   6,  42,  15,  10,  38,  11,   6,  37,  14,  11,  31,\n",
              "         8,   5,  29,   8,   6,  55,  25,  15,  63,  26,   8,  53,  18,\n",
              "         9,  38,   7,   5,  35,   6,   6,  37,  11,  10,  18,  16,  19,\n",
              "        34,  30,  43,  31,  28,  35,  60,  48,  46,  92,  75,  61,  53,\n",
              "        41,  38,  42,  18,  13, 149,  92,  58, 145,  81,  38, 113,  59,\n",
              "        23, 124,  65,  20, 116,  61,  24,  78,  35,  17,  38,  15,  12,\n",
              "        44,  19,  13,  55,  18,   7, 116,  45,   8, 116,  44,   7, 115,\n",
              "        45,   5, 116,  47,   7, 119,  48,   8, 127,  48,  12, 137,  62,\n",
              "        17,  81,  39,  28,   2,   0,   1,   9,   2,   6,  92,  43,  14,\n",
              "       121,  56,  12, 103,  47,  12,  28,  13,  12,  10,   4,   3,  58,\n",
              "        24,  14,  44,  16,   8,  18,   7,   9,  12,   4,   6,  24,   7,\n",
              "         5,  33,  15,  11,  46,  17,  14,  37,  10,   7,  26,   6,   6,\n",
              "        25,   5,   5,  34,  11,   6,  60,  25,   9,  64,  26,   6,  55,\n",
              "        21,  10,  38,   7,   5,  35,   7,   6,  32,   7,   6,  28,  26,\n",
              "        30,  43,  38,  52,  37,  32,  41,  80,  69,  66, 140, 118,  93,\n",
              "        77,  57,  49,  50,  21,  24, 164,  97,  52, 203, 123,  51, 189,\n",
              "       111,  35, 172,  91,  26, 147,  71,  25,  85,  39,  22,  30,  14,\n",
              "        15,  48,  25,  20,  60,  30,  14, 121,  51,   9, 123,  51,  13,\n",
              "       120,  47,  10, 122,  48,  11, 125,  49,   8, 157,  84,  56, 192,\n",
              "       125, 106,  94,  55,  43,   1,   0,   1,  11,   2,   6,  96,  43,\n",
              "        16, 128,  53,  15, 111,  48,  16,  33,  11,  15,  17,   5,   4,\n",
              "        69,  27,  15,  44,  12,   7,  19,   5,   6,  20,   6,   5,  28,\n",
              "         9,   6,  26,   9,   5,  46,  16,  12,  38,   9,   7,  21,   3,\n",
              "         3,  21,   3,   4,  49,  22,  13,  64,  26,   5,  61,  25,   3,\n",
              "        55,  22,   8,  45,  14,   4,  42,  15,   7,  30,   7,   4,  53,\n",
              "        47,  52,  53,  45,  57,  33,  28,  35,  41,  35,  31, 150, 127,\n",
              "        99,  67,  47,  46,  56,  23,  26, 155,  86,  36, 189, 108,  31,\n",
              "       192, 112,  33, 188, 109,  33, 167,  86,  22, 101,  50,  32,  24,\n",
              "        10,   7,  27,  10,   8,  49,  26,  17, 120,  56,  17, 132,  56,\n",
              "        13, 126,  52,  10, 131,  52,   6, 154,  74,  42, 226, 201, 196,\n",
              "       217, 174, 166,  98,  60,  46,   3,   1,   7,  15,   3,   6, 108,\n",
              "        51,  16, 130,  56,  18, 120,  57,  23,  39,  12,  15,  18,  12,\n",
              "         8,  78,  30,  13,  33,   6,   5,  22,   6,   9,  15,   2,   4,\n",
              "        21,   4,   3,  30,   7,   4,  41,  13,   6,  32,   7,   2,  23,\n",
              "         7,   7,  21,   4,   3,  56,  24,  11,  68,  28,   9,  61,  26,\n",
              "         9,  58,  21,   8,  58,  22,   4,  46,  17,   6,  30,   7,   5,\n",
              "        32,  26,  31,  47,  40,  52,  32,  26,  31,  85,  72,  61, 147,\n",
              "       122, 101,  56,  34,  32,  80,  49,  41, 139,  72,  36, 190, 117,\n",
              "        33, 196, 122,  41, 189, 112,  34, 180, 100,  28, 106,  58,  35,\n",
              "        18,   7,   5,  27,  12,  10,  39,  19,  16, 109,  48,  15, 139,\n",
              "        60,  14, 132,  53,   9, 143,  54,  14, 207, 143, 124, 241, 238,\n",
              "       238, 217, 169, 138,  99,  62,  41,   6,   0,   8,  14,   2,   6,\n",
              "       127,  68,  32, 158,  80,  34, 160, 106,  73,  36,  21,  20,  30,\n",
              "        11,   9, 103,  44,  30,  43,  20,  12,  21,   9,   5,  41,  19,\n",
              "        14,  41,  10,   5,  31,   8,   7,  38,  13,  10,  30,   6,   2,\n",
              "        24,   6,   4,  32,  12,   9,  50,  20,  12,  56,  21,  12,  65,\n",
              "        23,  11,  62,  20,   7,  56,  20,   7,  47,  17,  10,  32,   8,\n",
              "         5,  64,  57,  63,  50,  42,  55,  41,  34,  38, 121, 106,  98,\n",
              "        70,  53,  47,  60,  44,  39,  90,  62,  49, 148,  89,  44, 201,\n",
              "       137,  53, 198, 131,  49, 195, 121,  38, 188, 109,  29,  88,  46,\n",
              "        20,  12,   2,   5,  21,   8,   7,  22,   7,  10,  97,  42,  17,\n",
              "       148,  63,  16, 142,  56,  10, 189, 110,  76, 226, 159, 135, 232,\n",
              "       155, 129, 219, 136, 108, 117,  72,  59,   9,   0,   7,  14,   5,\n",
              "         7, 119,  62,  34, 155,  77,  35, 141,  82,  58,  35,  17,  12,\n",
              "        68,  36,  34, 150,  97,  77,  71,  28,  14,  32,   4,   2, 100,\n",
              "        62,  56, 110,  61,  47,  38,   9,   6,  44,  14,  12,  32,   6,\n",
              "         2,  25,   6,   2,  32,  10,   6,  53,  21,  12,  59,  23,  12,\n",
              "        62,  22,   9,  64,  24,   9,  51,  14,   7,  44,  14,  11,  37,\n",
              "        12,   8,  45,  40,  44,  49,  42,  54,  41,  35,  40,  39,  29,\n",
              "        33,  46,  38,  42,  65,  57,  52,  89,  61,  48, 182, 127,  61,\n",
              "       230, 171,  91, 219, 156,  74, 206, 134,  49, 197, 117,  33, 110,\n",
              "        63,  26,  16,   5,  12,  13,   4,   4,  12,   0,   4,  92,  40,\n",
              "        19, 166,  72,  26, 190,  92,  47, 222, 147, 111, 232, 173, 140,\n",
              "       237, 159, 132, 226, 165, 145,  96,  54,  39,  12,   2,   8,  16,\n",
              "         6,   9,  93,  41,  23, 144,  67,  35, 117,  52,  37,  49,  17,\n",
              "        13, 107,  68,  65, 188, 149, 124,  96,  38,  25,  30,   9,   8,\n",
              "       102,  82,  74, 173, 132, 108,  70,  27,  17,  46,  12,   7,  33,\n",
              "         4,   1,  28,   6,   4,  39,  15,   9,  65,  27,   9,  72,  32,\n",
              "        11,  53,  20,   6,  56,  20,   7,  53,  15,   9,  43,  12,   9,\n",
              "        37,  11,   6,  17,  17,  17,  44,  43,  52,  41,  40,  46,  38,\n",
              "        39,  41,  62,  60,  61,  60,  55,  56,  91,  65,  52, 217, 165,\n",
              "        99, 255, 213, 120, 248, 197, 102, 221, 158,  67, 204, 128,  40,\n",
              "       142,  77,  28,  29,   8,  13,   9,   3,   7,  11,   4,   5,  63,\n",
              "        26,  18, 131,  56,  40, 149,  72,  55, 133,  71,  50, 144,  85,\n",
              "        63, 144,  73,  58, 125,  73,  62,  51,  19,  17,  22,  10,  12,\n",
              "        12,   2,   6,  89,  45,  33, 188,  95,  42, 162,  95,  75,  76,\n",
              "        37,  34, 137,  99,  91, 205, 171, 151,  98,  38,  23,  40,  13,\n",
              "        10,  99,  73,  64, 187, 136, 109, 106,  55,  39,  48,  16,  13,\n",
              "        35,   5,   6,  36,   8,  11,  46,  17,   9,  76,  35,   8,  70,\n",
              "        30,  10,  46,  15,   8,  42,  12,   5,  51,  18,   6,  54,  22,\n",
              "         3,  49,  17,   6,  16,  16,  18,  46,  44,  56,  40,  38,  47,\n",
              "        48,  46,  49,  60,  56,  55,  67,  61,  58,  56,  42,  31, 147,\n",
              "       115,  74, 171, 137,  84, 130,  93,  57, 119,  73,  40, 159, 104,\n",
              "        74, 186, 138, 112,  68,  44,  30,  15,   3,   5,  26,  14,  17,\n",
              "        27,  12,  19,  19,   2,  10,  16,   4,   7,  18,   5,   9,  24,\n",
              "         8,   9,  35,  14,   9,  33,  14,  16,  36,  15,  23,  30,  11,\n",
              "        15,   9,   3,   5,  69,  34,  20, 201, 116,  56, 187, 122,  89,\n",
              "        92,  50,  40,  96,  55,  45, 132,  78,  56,  87,  23,   6,  43,\n",
              "        14,   6,  79,  36,  20, 131,  58,  36,  64,  19,  13,  46,  11,\n",
              "        10,  37,   7,   7,  33,   5,   4,  57,  23,  10,  78,  37,  11,\n",
              "        61,  23,   7,  42,  13,   7,  33,  10,   4,  40,  15,   5,  57,\n",
              "        20,   7,  58,  18,  10,  40,  39,  44,  51,  49,  63,  44,  41,\n",
              "        52,  71,  67,  72,  65,  58,  55,  65,  57,  48,  29,  20,  19,\n",
              "        33,  17,  13,  41,  21,  13,  42,  17,  11,  37,   8,   5,  58,\n",
              "        27,  23, 103,  68,  55,  82,  46,  31,  38,  15,  13,  42,  13,\n",
              "        10,  33,  10,  10,  21,   8,  10,  26,   6,  11,  29,   6,  11,\n",
              "        34,  12,  15,  34,  22,  15,  37,  21,  18,  40,  20,  23,  35,\n",
              "        18,  22,  17,   8,  10,  49,  26,  27, 177, 130,  94, 225, 178,\n",
              "       146, 105,  67,  55,  48,  11,   5, 129,  58,  39,  95,  43,  23,\n",
              "        53,  22,  13,  69,  34,  24, 121,  65,  47,  52,  20,  16,  45,\n",
              "        14,  12,  37,  10,   6,  42,  13,   5,  82,  39,  18,  78,  36,\n",
              "        12,  60,  24,   9,  38,  10,   6,  35,  13,   9,  40,  14,   7,\n",
              "        51,  18,   9,  45,  11,   9,  38,  37,  42,  51,  48,  63,  44,\n",
              "        42,  55,  69,  64,  70,  90,  83,  80,  77,  69,  58,  32,  24,\n",
              "        11,  31,  22,  15,  27,  14,   9,  37,  21,   9,  39,  20,   9,\n",
              "        34,  16,   4,  47,  23,   9,  69,  30,  25,  41,  18,  13,  29,\n",
              "        13,  13,  30,  13,  10,  23,  11,   5,  26,   7,   7,  24,   8,\n",
              "         7,  25,  14,  12,  27,  19,  17,  30,  22,  20,  35,  24,  25,\n",
              "        37,  25,  27,  20,   6,   8,  33,  14,  24,  83,  66,  62, 126,\n",
              "        91,  80,  64,  32,  29,  44,  17,  15,  99,  38,  29,  64,  33,\n",
              "        23,  34,  11,   9,  22,   7,  13,  29,  12,   9,  23,   5,   4,\n",
              "        29,  11,   8,  24,   7,   3,  41,  16,   7,  74,  34,  15,  70,\n",
              "        31,  11,  60,  26,  12,  37,  12,   8,  32,   6,   6,  38,   8,\n",
              "         5,  40,  13,   7,  34,  13,  12,  35,  32,  31,  48,  46,  58,\n",
              "        44,  44,  57,  66,  63,  63,  43,  39,  34,  60,  56,  47,  44,\n",
              "        40,  27,  31,  25,  17,  19,  11,   8,  18,  10,   6,  25,  11,\n",
              "         5,  29,  10,   4,  48,  29,  15,  64,  42,  25,  61,  34,  27,\n",
              "        30,   7,   7,  32,  15,  14,  42,  16,  19,  35,  13,  13,  29,\n",
              "        10,  10,  31,  16,  13,  34,  20,  16,  30,  19,  18,  33,  21,\n",
              "        24,  39,  24,  27,  23,   7,  10,  22,   5,   7,  22,   2,   4,\n",
              "        20,   0,   2,  17,   0,   2,  16,   1,   6,  15,   0,   5,  12,\n",
              "         0,   4,  14,   1,   6,  16,   2,   7,  10,   0,   1,   9,   0,\n",
              "         0,   5,   2,   3,   3,   2,   3,  10,   4,   3,  21,   7,   6,\n",
              "        39,  16,  11,  34,   8,   3,  25,   9,   5,  28,  10,  10,  31,\n",
              "         7,   7,  34,   9,   7,  36,  13,  12,  58,  55,  54,  44,  42,\n",
              "        54,  42,  44,  56,  41,  42,  38,  62,  59,  47,  94,  88,  72,\n",
              "        32,  37,  23,  21,  20,  10,  21,  16,   8,  17,  11,   3,  23,\n",
              "        11,   3,  35,  17,   7,  64,  40,  26,  88,  61,  43,  56,  28,\n",
              "        22,  21,   4,   9,  34,  10,   8,  54,  19,  10,  68,  23,  10,\n",
              "        65,  23,   9,  71,  31,  14,  80,  43,  26,  61,  37,  32,  33,\n",
              "        18,  21,  34,  21,  23,  26,  12,  15,  14,   2,   3,  11,   2,\n",
              "         2,  12,   3,   2,  12,   3,   4,   8,   1,   4,   7,   1,   4,\n",
              "        10,   1,   3,  37,  13,  21,  43,  15,  25,  11,   3,   5,   2,\n",
              "         3,   3,   6,   1,   7,   6,   2,   8,   5,   4,   7,   7,   2,\n",
              "         3,   9,   0,   1,   8,   0,   1,   5,   3,   3,   8,   2,   3,\n",
              "        17,   3,   6,  28,   9,  10,  33,  12,  11,  82,  79,  77,  49,\n",
              "        47,  59,  46,  47,  61,  37,  40,  42,  77,  73,  65,  90,  80,\n",
              "        63,  33,  29,  12,  48,  35,  17,  58,  37,  21,  56,  33,  17,\n",
              "        63,  34,  18,  74,  39,  21,  89,  49,  27,  98,  57,  31,  81,\n",
              "        33,  15, 133,  64,  45, 176,  97,  71, 198, 122,  81, 206, 131,\n",
              "        79, 205, 132,  77, 214, 153,  93, 230, 201, 142, 179, 163, 131,\n",
              "        31,  19,  10,  33,  22,  25,  26,  15,  17,  12,   3,   5,  10,\n",
              "         3,   5,  11,   3,   5,  10,   3,   5,   8,   2,   4,   8,   2,\n",
              "         4,   8,   2,   3,  41,  15,  24,  51,  20,  31,  14,   6,   6,\n",
              "         6,   2,   1,   7,   1,   2,   9,   3,   8,   8,   3,   8,   7,\n",
              "         3,   4,   6,   1,   4,   7,   1,   6,   8,   3,   3,   8,   4,\n",
              "         3,  12,   1,   1,  29,   8,   7,  41,  15,  14,  28,  27,  27,\n",
              "        53,  51,  65,  53,  54,  68,  31,  35,  42,  37,  33,  27,  59,\n",
              "        47,  34,  59,  42,  25, 130, 105,  82, 164, 132, 106, 153, 113,\n",
              "        92, 143,  95,  74, 141,  91,  68, 146,  96,  68, 131,  77,  46,\n",
              "       136,  69,  35, 233, 134,  71, 254, 154,  85, 255, 173,  98, 254,\n",
              "       194, 119, 255, 201, 127, 253, 212, 141, 255, 247, 186, 195, 185,\n",
              "       154,  30,  19,  13,  28,  17,  18,  17,   7,   8,  13,   2,   5,\n",
              "        13,   1,   6,  11,   1,   5,  11,   1,   5,  11,   0,   4,  11,\n",
              "         0,   4,  10,   2,   4,  33,  10,  18,  40,  13,  23,  25,  10,\n",
              "        10,  58,  28,  20,  24,  10,   5,  11,   3,   2,   9,   1,   4,\n",
              "        13,   6,   5,  25,  14,  14,  15,   1,   7,  23,   8,  10,  27,\n",
              "        13,   9,  25,   8,   3,  41,  14,  10,  39,  12,   8,  36,  40,\n",
              "        45,  47,  46,  63,  55,  53,  68,  49,  51,  55,  27,  26,  16,\n",
              "        50,  42,  30,  69,  52,  36, 146, 130, 108, 171, 155, 127, 145,\n",
              "       110,  90, 132,  83,  65, 137,  92,  69, 146,  97,  73, 153,  91,\n",
              "        62, 174,  99,  58, 245, 160,  84, 254, 177,  93, 254, 192, 114,\n",
              "       253, 218, 143, 253, 239, 180, 254, 247, 218, 255, 255, 240, 197,\n",
              "       191, 173,  41,  18,  13,  31,  16,  14,  14,   3,   2,  21,  10,\n",
              "        12,  15,   2,   7,  10,   1,   4,   9,   2,   4,  10,   1,   4,\n",
              "        10,   1,   4,  11,   1,   4,  29,   8,  15,  39,  14,  23,  47,\n",
              "        21,  17, 110,  36,  18,  51,  17,  12,  18,   7,   5,   5,   3,\n",
              "         6,  31,  13,   8,  52,  24,  13,  16,   1,   8,  26,  10,  14,\n",
              "        36,  11,   6,  33,   5,   3,  39,  11,   8,  37,  13,  11,  31,\n",
              "        32,  35,  39,  41,  57,  51,  54,  72,  41,  43,  50,  23,  21,\n",
              "        17,  26,  17,  14,  76,  59,  45, 168, 152, 126, 171, 154, 128,\n",
              "       150, 116,  94, 156, 115,  91, 146, 101,  76, 152,  99,  71, 158,\n",
              "        92,  60, 184, 107,  64, 249, 173, 103, 248, 189, 109, 253, 209,\n",
              "       131, 254, 231, 159, 250, 251, 207, 248, 255, 252, 254, 253, 251,\n",
              "       181, 148, 137,  47,  21,  13,  41,  24,  23,  16,   4,   4,  36,\n",
              "        24,  27,  21,   8,  12,  10,   1,   3,   9,   1,   4,  10,   1,\n",
              "         4,  10,   1,   4,  10,   1,   3,  27,   9,  13,  40,  19,  25,\n",
              "        54,  22,  19, 112,  29,  15,  56,  22,  15,  24,  12,  10,   8,\n",
              "         3,   8,  55,  20,   8,  66,  27,  10,  13,   1,   7,  29,  10,\n",
              "        10,  41,  12,   6,  33,   6,   3,  34,   6,   4,  35,  11,   9,\n",
              "        19,  20,  18,  41,  45,  60,  46,  56,  74,  26,  30,  30,  21,\n",
              "        19,  12,  23,  14,  12,  81,  64,  51, 167, 152, 121, 170, 151,\n",
              "       127, 161, 131, 105, 158, 126,  97, 160, 114,  87, 156,  98,  66,\n",
              "       164,  93,  56, 188, 108,  62, 247, 179, 107, 250, 191, 111, 252,\n",
              "       201, 123, 249, 214, 133, 246, 237, 171, 251, 252, 220, 229, 196,\n",
              "       178, 160,  91,  75,  42,  27,  17,  40,  22,  22,  20,   5,   6,\n",
              "        22,  10,  12,  16,   5,   8,  11,   2,   5,   9,   2,   4,  10,\n",
              "         1,   4,  10,   1,   4,   9,   1,   2,  28,  14,  14,  43,  25,\n",
              "        27,  35,  10,  10,  89,  23,  16,  42,  17,  12,  27,  11,  13,\n",
              "        12,   3,  10,  63,  26,  14,  77,  35,  20,   9,   1,   5,  39,\n",
              "        18,  14,  52,  17,   8,  34,   7,   4,  36,   8,   5,  29,   5,\n",
              "         4,  20,  21,  19,  35,  40,  51,  37,  47,  60,  24,  28,  23,\n",
              "        26,  24,  13,  35,  25,  19,  72,  55,  43, 158, 144, 112, 169,\n",
              "       149, 126, 167, 135, 109, 162, 128,  98, 167, 119,  88, 171, 111,\n",
              "        78, 171, 101,  64, 185, 104,  58, 233, 158,  89, 242, 180,  98,\n",
              "       234, 176, 102, 224, 167, 105, 224, 174, 115, 193, 145, 109, 168,\n",
              "       115,  94, 116,  74,  58,  47,  17,  27,  35,  14,  15,  38,  21,\n",
              "        22,  33,  14,  17,  37,  21,  23,  18,   7,  10,  10,   1,   4,\n",
              "         9,   1,   4,   9,   1,   4,   6,   0,   2,  35,  23,  21,  61,\n",
              "        43,  40,  36,  23,  22,  53,  14,  10,  32,  13,  11,  22,   6,\n",
              "         8,  12,   5,   9,  42,  12,   6,  57,  17,   9,  11,   2,   5,\n",
              "        34,  14,  10,  50,  15,   9,  34,   7,   5,  37,  10,   8,  30,\n",
              "         7,   5,  16,  20,  17,  23,  27,  26,  31,  35,  36,  26,  27,\n",
              "        24,  17,  13,   8,  18,   8,   3,  60,  46,  36, 125, 109,  85,\n",
              "       131, 109,  86, 149, 114,  92, 150, 102,  74, 157,  98,  64, 164,\n",
              "        99,  64, 168,  96,  61, 194, 117,  70, 232, 174, 109, 252, 233,\n",
              "       147, 245, 234, 167, 199, 163, 122, 136,  76,  43, 108,  55,  33,\n",
              "       152, 100,  62, 166, 123,  88,  51,  23,  26,  37,  15,  15,  48,\n",
              "        28,  27,  42,  15,  16,  37,  17,  15,  20,   9,  10,  11,   0,\n",
              "         4,   7,   1,   3,   7,   1,   3,   4,   0,   2,  27,  19,  14,\n",
              "        70,  54,  43,  35,  23,  22,  59,  19,  11,  43,  12,   9,  18,\n",
              "         3,   7,  12,   5,   7,  36,  10,   5,  54,  13,   9,  13,   1,\n",
              "         2,  28,  10,   9,  40,  12,  10,  28,   6,   4,  30,   8,   5,\n",
              "        28,   7,   3,  13,  18,  12,  20,  25,  22,  28,  32,  32,  24,\n",
              "        26,  19,  22,  17,  11,  15,   6,   3,  44,  34,  28, 137, 120,\n",
              "        96, 122,  98,  74, 131, 102,  83, 152, 109,  83, 152,  99,  68,\n",
              "       116,  63,  40, 101,  44,  26, 139,  80,  56, 130,  68,  36, 210,\n",
              "       152,  97, 171, 106,  67,  90,  41,  21,  81,  39,  10, 114,  52,\n",
              "        26, 173,  94,  42, 189, 115,  64,  50,  24,  20,  33,  14,  12,\n",
              "        29,  13,  12,  82,  60,  56,  66,  54,  48,  24,  22,  20,   6,\n",
              "         0,   3,   7,   1,   3,   7,   1,   3,   4,   0,   2,  22,  14,\n",
              "        11,  63,  47,  37,  39,  21,  19,  71,  19,  11,  44,  13,   9,\n",
              "        24,   8,  13,  18,   2,  10,  42,  17,   9,  53,  21,  12,  14,\n",
              "         1,   3,  30,  14,  12,  37,  14,   9,  25,   5,   2,  28,   8,\n",
              "         5,  25,   6,   3,  13,  19,  10,  12,  17,  11,  18,  23,  19,\n",
              "        30,  33,  22,  24,  19,  13,  16,   5,   5,  30,  23,  19, 116,\n",
              "        98,  74, 131, 104,  75, 110,  85,  66, 101,  74,  58,  59,  34,\n",
              "        21,  30,   9,   5,  29,   8,   9,  29,  11,  12,  42,  15,  14,\n",
              "        99,  42,  15, 110,  39,  13,  89,  33,  16,  83,  35,  13,  97,\n",
              "        40,  13, 120,  57,  25, 125,  68,  39,  44,  22,  14,  41,  25,\n",
              "        19,  26,  13,  13, 112,  93,  83,  45,  33,  27,  16,  13,  11,\n",
              "         7,   1,   4,   7,   1,   3,   7,   1,   3,   4,   1,   2,  25,\n",
              "        17,  12,  62,  45,  35,  38,  23,  19,  68,  23,   9,  50,  18,\n",
              "        10,  26,  13,  12,  22,   8,   9,  23,   8,   2,  34,  18,   8,\n",
              "        22,   8,  10,  29,  12,  10,  32,  14,   8,  30,  12,   8,  30,\n",
              "        12,   8,  24,   7,   4,   7,  13,   4,  12,  17,  10,  17,  22,\n",
              "        16,  22,  25,  14,  15,  11,   6,  15,   6,   6,  21,  12,   8,\n",
              "        70,  54,  34,  88,  64,  41,  60,  40,  26,  25,  12,   5,  18,\n",
              "         9,   7,  20,   5,   3,  19,   5,   5,  23,  10,   8,  33,  11,\n",
              "         8,  37,  11,   4,  42,  18,  12,  54,  18,  11,  55,  17,  12,\n",
              "        55,  25,  12,  51,  21,  15,  42,  18,  13,  35,  17,   8,  36,\n",
              "        19,  14,  25,  10,  10,  29,  11,   6,  17,   3,   2,  11,   2,\n",
              "         5,  10,   1,   6,   7,   1,   4,   7,   1,   4,   5,   0,   3,\n",
              "        21,  12,  10,  50,  36,  26,  39,  27,  21,  58,  28,  15,  40,\n",
              "        14,   6,  26,  12,   6,  23,  13,   7,  21,  12,   7,  27,  18,\n",
              "        11,  29,  16,  15,  24,   9,   6,  22,  10,   3,  24,  10,   6,\n",
              "        25,  12,   7,  20,   8,   4,   5,  10,   3,  10,  15,   9,  21,\n",
              "        26,  19,  15,  16,  12,  11,  10,   6,  14,   9,   6,  22,  10,\n",
              "         2,  27,  16,   7,  25,  14,   7,  24,  13,   7,  22,  10,   4,\n",
              "        24,  12,   7,  20,   7,   7,  20,   7,   7,  25,  12,  10,  27,\n",
              "        13,   5,  26,  13,   5,  29,  14,   6,  32,  11,   5,  32,  12,\n",
              "         5,  35,  16,  10,  30,  13,  10,  27,  10,   7,  27,  10,   6,\n",
              "        26,   8,   6,  31,  13,  11,  35,  19,  18,  17,   5,   7,  11,\n",
              "         1,   7,  10,   3,   8,   9,   3,   5,   9,   3,   5,   7,   1,\n",
              "         3,  15,   7,   7,  31,  21,  13,  26,  13,   5,  24,   8,   7,\n",
              "        22,   6,   4,  21,   6,   2,  20,   8,   2,  26,  13,   7,  27,\n",
              "        16,  10,  25,  17,  10,  21,  12,   5,  17,   8,   3,  20,  11,\n",
              "         7,  21,  12,   7,  21,  12,   8,   5,  10,   5,  14,  19,  14,\n",
              "        23,  28,  23,  16,  17,  12,  16,  14,  11,  14,   8,   5,  21,\n",
              "        11,   6,  18,   8,   4,  18,   8,   4,  17,   8,   4,  15,   5,\n",
              "         1,  18,   8,   5,  18,   8,   7,  17,   7,   6,  25,  14,  12,\n",
              "        22,  10,   5,  20,   8,   2,  21,   8,   3,  27,   9,   9,  28,\n",
              "        10,  10,  24,   7,   6,  22,   7,   4,  22,   8,   5,  23,   8,\n",
              "         5,  22,   7,   4,  27,  12,   9,  37,  23,  20,  18,   7,   7,\n",
              "        12,   3,   5,  10,   4,   6,  11,   5,   5,  10,   4,   4,   7,\n",
              "         3,   3,  12,   6,   5,  19,  11,   6,  16,   7,   4,  10,   4,\n",
              "         6,  11,   4,   6,  15,   7,   5,  18,   8,   3,  23,  13,   9,\n",
              "        22,  13,   7,  24,  17,   8,  21,  14,   6,  20,  12,   6,  22,\n",
              "        13,   8,  20,  11,   5,  22,  12,   8,   4,   8,   7,  17,  22,\n",
              "        20,  24,  29,  27,  21,  23,  19,  24,  22,  19,  14,   9,   7,\n",
              "        17,   9,   9,  14,   6,   6,  17,   9,   8,  17,   9,   7,  12,\n",
              "         5,   2,  16,   8,   6,  17,   9,   7,  16,   8,   6,  22,  14,\n",
              "        12,  19,  10,   6,  18,   9,   4,  18,   8,   4,  22,   9,   7,\n",
              "        20,   7,   5,  20,   7,   6,  20,   7,   7,  18,   5,   5,  21,\n",
              "         8,   6,  21,   9,   5,  20,   8,   5,  31,  18,  15,  26,  15,\n",
              "        14,  10,   2,   1,  13,   8,   8,  13,   8,   5,  11,   6,   2,\n",
              "        10,   6,   3,  13,  10,   7,  17,  10,   9,  14,   6,   7,  10,\n",
              "         6,   5,  10,   6,   5,  14,   8,   6,  18,  10,   7,  16,   8,\n",
              "         6,  16,  10,   4,  17,  14,   4,  19,  15,   6,  19,  12,   5,\n",
              "        22,  12,   7,  19,  10,   5,  20,  11,   8,   7,  10,  10,  19,\n",
              "        22,  22,  17,  20,  19,  27,  28,  23,  37,  35,  30,  19,  14,\n",
              "        12,  19,  14,  14,  12,   7,   7,  24,  19,  19,  16,  11,   8,\n",
              "        14,   8,   5,  18,  12,   9,  14,   8,   5,  16,  10,   7,  19,\n",
              "        13,  10,  17,   8,   6,  17,   7,   4,  19,  10,   5,  21,  12,\n",
              "         6,  27,  17,   9,  29,  18,  10,  26,  14,  10,  15,   4,   3,\n",
              "        20,   9,   7,  18,   6,   4,  21,   9,   8,  34,  22,  19,  25,\n",
              "        12,  10,  24,  12,  10,  37,  27,  20,  19,  13,   8,   8,   5,\n",
              "         2,   9,   6,   3,   9,   6,   4,  16,  10,  12,  14,   7,   7,\n",
              "        11,   5,   2,  12,   5,   2,  19,  12,  10,  14,   8,   5,  11,\n",
              "         5,   2,  11,   6,   2,  12,   9,   2,  14,  10,   3,  16,  10,\n",
              "         4,  18,  10,   6,  18,  10,   6,  18,   9,   7,   3,   5,   4,\n",
              "        11,  13,  12,  13,  15,  14,  28,  29,  23,  42,  41,  30,  23,\n",
              "        18,  15,  20,  15,  12,  15,  10,   7,  20,  14,  11,  18,  10,\n",
              "         8,  18,  10,   8,  18,  10,   8,  16,   8,   6,  20,  12,  10,\n",
              "        19,  11,  10,  14,   6,   4,  17,  10,   4,  19,  12,   4,  22,\n",
              "        14,   7,  32,  20,  12,  45,  31,  18,  48,  36,  21,  32,  22,\n",
              "        17,  32,  24,  17,  32,  21,  17,  25,  15,  11,  32,  21,  15,\n",
              "        36,  23,  16,  50,  33,  24,  50,  32,  15,  18,   8,   2,   4,\n",
              "         4,   2,   8,   4,   2,   8,   1,   2,  14,   8,   8,   9,   4,\n",
              "         2,  10,   5,   2,  12,   7,   4,  22,  16,  13,  13,   6,   4,\n",
              "        14,   6,   4,  14,   8,   5,  13,   7,   5,  12,   7,   4,  16,\n",
              "        10,   7,  17,   9,   7,  18,  10,   8,  17,   9,   7,   5,   7,\n",
              "         6,  10,  12,  11,   8,  10,   9,  18,  20,  15,  40,  40,  27,\n",
              "        19,  15,   7,  22,  17,  15,  17,  12,   9,  13,   8,   5,  30,\n",
              "        22,  21,  24,  16,  14,  19,  11,   9,  18,  10,   8,  25,  17,\n",
              "        15,  19,  12,  10,  15,   7,   5,  20,  13,   7,  23,  16,   8,\n",
              "        24,  15,   6,  32,  21,  10,  48,  34,  18,  53,  39,  22,  33,\n",
              "        21,  13,  28,  19,   9,  39,  31,  15,  35,  26,  11,  44,  35,\n",
              "        17,  54,  41,  23,  48,  31,  16,  51,  33,  14,  23,  11,   5,\n",
              "         7,   3,   2,  14,   8,   6,  12,   6,   6,  10,   5,   5,   7,\n",
              "         2,   1,  13,   9,   4,  24,  19,  14,  18,  13,  10,  10,   5,\n",
              "         3,  14,   9,   6,  15,  10,   7,  15,  10,   7,  12,   7,   4,\n",
              "        17,  11,   8,  18,  10,   8,  20,  12,  10,  17,   9,   7,   3,\n",
              "         6,   5,   8,  10,   9,   7,   9,   8,  16,  17,  13,  51,  51,\n",
              "        34,  27,  24,  10,  32,  27,  24,  27,  21,  19,  14,   9,   6,\n",
              "        44,  36,  34,  23,  14,  13,  15,   7,   5,  14,   6,   4,  24,\n",
              "        16,  15,  18,  10,   8,  17,   9,   6,  17,  10,   4,  26,  19,\n",
              "         9,  28,  20,   8,  37,  26,  12,  48,  34,  15,  46,  29,  10,\n",
              "        34,  19,  10,  30,  19,   6,  42,  33,  16,  33,  24,   9,  33,\n",
              "        25,   5,  45,  33,  11,  48,  31,  18,  47,  27,  14,  27,  12,\n",
              "         7,  11,   4,   4,  11,   3,   3,  14,   8,   8,  13,   7,   7,\n",
              "        13,   8,   5,  20,  16,   7,  27,  23,  14,  13,  10,   5,  10,\n",
              "         8,   5,  11,   9,   5,  12,   9,   6,  16,  10,   7,  13,   8,\n",
              "         5,  18,  11,   9,  18,  10,   8,  20,  12,  10,  14,   6,   4,\n",
              "        12,  13,  11,  13,  13,  11,   7,   8,   7,  12,  12,  10,  49,\n",
              "        49,  33,  41,  39,  20,  34,  30,  24,  27,  22,  19,  28,  24,\n",
              "        19,  35,  28,  27,  20,  14,  12,  15,   8,   6,  13,   6,   4,\n",
              "        23,  17,  15,  15,   8,   6,  15,   7,   5,  18,  10,   6,  21,\n",
              "        13,   7,  21,  13,   1,  34,  23,  10,  41,  27,  11,  43,  27,\n",
              "         9,  39,  24,  11,  39,  27,  11,  37,  28,  10,  30,  22,   6,\n",
              "        37,  31,  11,  40,  28,  11,  40,  24,  16,  44,  25,  14,  31,\n",
              "        15,   6,  16,   6,   5,  16,   8,   7,  20,  15,  12,  23,  17,\n",
              "        15,  24,  20,  15,  19,  17,   8,  18,  16,   7,  10,   9,   4,\n",
              "        11,  10,   6,   9,   8,   4,  11,   8,   4,  14,   9,   6,  14,\n",
              "         9,   6,  16,  10,   8,  18,  11,   9,  17,  10,   8,  13,   6,\n",
              "         4,  20,  19,  15,  17,  16,  12,   8,   7,   4,   8,   8,   7,\n",
              "        33,  32,  22,  32,  29,  12,  23,  19,  11,  46,  42,  36,  32,\n",
              "        28,  21,  23,  18,  16,  25,  20,  17,  11,   6,   4,  12,   7,\n",
              "         4,  23,  18,  16,  10,   5,   3,  21,  13,  12,  16,   8,   7,\n",
              "        18,  10,   7,  21,  12,   3,  27,  14,   7,  33,  19,  11,  31,\n",
              "        18,   7,  36,  22,  11,  34,  21,   9,  31,  21,   6,  22,  15,\n",
              "         3,  20,  15,   3,  22,  13,   4,  29,  17,   9,  45,  30,  13,\n",
              "        37,  20,   6,  20,   8,   4,  17,  10,   8,  19,  14,   8,  21,\n",
              "        16,  11,  17,  15,   8,  16,  16,   8,  13,  13,   6,   8,   7,\n",
              "         2,  11,   9,   6,  10,   9,   5,  11,   8,   5,  12,   7,   4,\n",
              "        18,  13,  10,  14,   9,   7,  17,  12,   9,  13,   8,   5,  12,\n",
              "         7,   4,  18,  17,  13,  14,  12,   8,  10,   9,   6,   9,   9,\n",
              "         7,  22,  21,  14,  41,  37,  26,  23,  18,  13,  52,  47,  42,\n",
              "        54,  49,  44,  31,  26,  23,  34,  29,  27,   9,   4,   1,  12,\n",
              "         7,   5,  24,  19,  17,  12,   7,   4,  21,  13,  12,  15,   7,\n",
              "         6,  15,   8,   5,  13,   6,   2,  15,   4,   2,  24,  12,   8,\n",
              "        23,  12,   8,  28,  16,  12,  27,  15,  11,  25,  13,   9,  16,\n",
              "         7,   5,  14,   8,   7,  13,   5,   5,  24,  15,   8,  43,  29,\n",
              "        11,  42,  24,  11,  21,  10,   6,  13,   5,   4,  16,  11,   7,\n",
              "        16,  11,   9,   9,   5,   2,  14,  13,  10,   8,   7,   3,   7,\n",
              "         6,   2,   9,   8,   4,   9,   9,   5,   9,   6,   3,  12,   7,\n",
              "         4,  20,  15,  12,  13,   8,   5,  18,  13,  11,  18,  13,  10,\n",
              "        20,  15,  12,   9,   8,   4,  10,   9,   5,  12,  11,   8,  13,\n",
              "        14,  10,  21,  20,  15,  42,  37,  32,  33,  28,  25,  50,  45,\n",
              "        42,  74,  69,  66,  28,  23,  21,  50,  45,  43,  10,   5,   3,\n",
              "        21,  16,  14,  33,  28,  25,  13,   7,   4,  15,   7,   6,  22,\n",
              "        15,  13,  20,  13,  12,  14,   9,   9,  13,   5,   5,  21,  11,\n",
              "        10,  22,  13,   6,  26,  17,  10,  27,  17,  11,  26,  14,  11,\n",
              "        17,   8,   8,  13,   7,   6,  11,   6,   6,  12,   5,   4,  38,\n",
              "        25,  13,  41,  23,  11,  24,  12,   8,  10,   2,   2,  14,   9,\n",
              "         8,  16,  11,  10,   8,   5,   3,  16,  15,  13,   8,   7,   4,\n",
              "         7,   6,   3,   8,   7,   3,   7,   7,   2,   9,   6,   3,  15,\n",
              "        10,   8,  19,  14,  11,  16,  11,   9,  25,  20,  17,  13,   8,\n",
              "         5,  17,  12,   9,   5,   4,   1,   7,   6,   3,  14,  14,  11,\n",
              "        14,  14,   9,  14,  13,  10,  28,  25,  22,  40,  36,  34,  36,\n",
              "        32,  29,  48,  44,  42,  37,  32,  29,  80,  75,  71,  32,  28,\n",
              "        23,  48,  46,  41,  33,  31,  26,  13,   9,   5,  17,  11,   8,\n",
              "        30,  24,  22,  30,  23,  21,  13,   7,   7,  14,   6,   8,  21,\n",
              "        12,  10,  24,  15,   6,  31,  21,  11,  30,  18,   9,  27,  16,\n",
              "         9,  23,  15,  10,  16,  11,   7,  14,   9,   6,  11,   4,   6,\n",
              "        33,  21,  15,  48,  30,  16,  26,  14,   7,   8,   3,   3,  16,\n",
              "        10,  10,  18,  12,  13,  10,   6,   6,  16,  15,  14,   7,   6,\n",
              "         4,   8,   7,   4,   8,   7,   3,   7,   7,   2,   9,   7,   4,\n",
              "        23,  19,  16,  17,  13,  10,  23,  18,  15,  19,  13,  11,  14,\n",
              "         8,   5,  16,  10,   7,   4,   4,   2,  14,  14,  12,  30,  30,\n",
              "        28,  16,  16,  12,  19,  18,  15,  20,  19,  15,  36,  35,  32,\n",
              "        24,  23,  20,  54,  52,  49,  76,  71,  69,  82,  77,  71,  58,\n",
              "        55,  46,  54,  54,  47,  52,  52,  45,   9,   8,   2,  14,   9,\n",
              "         5,  29,  25,  22,  30,  25,  21,  14,   6,   5,  16,   8,  10,\n",
              "        22,  16,  10,  22,  13,   6,  31,  19,  10,  34,  19,  10,  28,\n",
              "        17,   8,  26,  19,  12,  20,  14,  11,  18,  10,   8,  12,   5,\n",
              "         4,  33,  22,  17,  50,  31,  16,  31,  18,   7,   9,   5,   3,\n",
              "        16,  10,  10,  17,  11,  11,  15,  11,  10,  16,  15,  13,   6,\n",
              "         5,   3,   8,   7,   4,  10,   9,   5,  11,  10,   6,  14,  11,\n",
              "         8,  22,  17,  14,  18,  13,  10,  24,  18,  16,  17,   9,   7,\n",
              "        17,   8,   7,  17,  11,   8,   4,   4,   2,  24,  24,  22,  37,\n",
              "        37,  35,  13,  12,   8,  37,  36,  32,  45,  44,  41,  54,  53,\n",
              "        50,  32,  31,  28,  67,  65,  61,  82,  78,  75,  81,  76,  72,\n",
              "        77,  73,  66,  65,  65,  58,  56,  56,  49,  16,  15,  10,  11,\n",
              "         6,   3,  26,  21,  19,  34,  29,  25,  23,  19,  16,  19,  14,\n",
              "        15,  31,  26,  20,  33,  24,  16,  31,  19,  11,  34,  21,  11,\n",
              "        27,  16,   8,  23,  16,  10,  19,  13,  10,  21,  13,  11,  14,\n",
              "         6,   5,  29,  19,  14,  49,  31,  17,  38,  22,   8,  15,   8,\n",
              "         5,  15,   9,   9,  19,  13,  13,  22,  18,  18,  12,  11,   9,\n",
              "         7,   6,   4,  10,   9,   6,  12,  11,   7,  11,  10,   6,  23,\n",
              "        20,  16,  21,  16,  13,  15,  11,   8,  18,  11,   9,  15,   7,\n",
              "         6,  16,   8,   6,  19,  13,  10,   7,   7,   5,  24,  24,  23,\n",
              "        35,  35,  33,  17,  16,  13,  45,  44,  41,  34,  33,  30,  56,\n",
              "        55,  51,  37,  37,  33,  63,  61,  58,  72,  67,  64,  74,  69,\n",
              "        65,  77,  74,  65,  73,  72,  66,  42,  43,  37,  32,  31,  26,\n",
              "        11,   6,   3,  27,  22,  20,  42,  38,  34,  37,  36,  32,  22,\n",
              "        20,  20,  27,  25,  18,  30,  21,  14,  34,  22,  13,  33,  19,\n",
              "         9,  28,  17,   8,  23,  15,   9,  24,  18,  15,  17,   9,   8,\n",
              "        14,   6,   5,  26,  17,  13,  39,  22,  10,  46,  26,   8,  25,\n",
              "        14,   8,  17,  12,  12,  26,  20,  21,  22,  19,  18,   8,   7,\n",
              "         6,   8,   7,   5,  10,   9,   7,  14,  13,   9,  16,  15,  11,\n",
              "        18,  16,  12,  21,  16,  14,  12,   7,   5,  23,  16,  14,  17,\n",
              "         9,   7,  18,   9,   8,  20,  14,  11,   9,   9,   6,  25,  26,\n",
              "        20,  40,  40,  37,  18,  18,  13,  37,  36,  31,  30,  29,  25,\n",
              "        50,  50,  47,  36,  36,  32,  66,  65,  61,  66,  61,  56,  88,\n",
              "        84,  79,  97,  93,  85,  77,  75,  68,  28,  25,  20,  45,  42,\n",
              "        36,  12,   6,   4,  21,  16,  14,  46,  43,  40,  50,  50,  45,\n",
              "        28,  26,  24,  28,  25,  17,  27,  19,   9,  32,  22,  11,  33,\n",
              "        19,   9,  28,  17,   8,  23,  15,   9,  30,  24,  19,  23,  15,\n",
              "        11,  13,   5,   4,  30,  20,  15,  38,  21,  10,  48,  27,  10,\n",
              "        34,  19,   9,  16,   9,   7,  25,  19,  17,  21,  18,  15,   6,\n",
              "         5,   3,  10,   9,   7,  15,  14,  11,  15,  13,   9,  22,  20,\n",
              "        17,  18,  14,  11,  17,  11,   9,  15,  10,   8,  24,  18,  16,\n",
              "        13,   6,   6,  20,  13,  12,  14,   9,   6], dtype=uint8)"
            ]
          },
          "metadata": {},
          "execution_count": 145
        }
      ]
    },
    {
      "cell_type": "code",
      "source": [
        ""
      ],
      "metadata": {
        "id": "dCItvZ_xjvzQ"
      },
      "execution_count": null,
      "outputs": []
    },
    {
      "cell_type": "code",
      "source": [
        ""
      ],
      "metadata": {
        "id": "3weJfw_5kDob"
      },
      "execution_count": null,
      "outputs": []
    }
  ],
  "metadata": {
    "accelerator": "GPU",
    "colab": {
      "background_execution": "on",
      "machine_shape": "hm",
      "name": "custom_cnn3.ipynb",
      "provenance": [],
      "collapsed_sections": [
        "uN6C5uhzTcav",
        "lx3VD0bqZ8fX",
        "HjagyiZlgr4i",
        "iVqMfCqcc4-N",
        "YhIrBKioc7vB",
        "AdWIx7H4dAE0",
        "aXvkchFoWrDX",
        "lrVIgCDnsS3-",
        "FE8mYSKMgRpP",
        "DTG9gwi1eeT2",
        "k9vL3DpOfUbw",
        "6cckRvt5gaz8",
        "diWxknm4gykg",
        "oazQSnBXhW17",
        "Jl03f9MyzFQA",
        "7H1wNq2pHGPD",
        "KiQlOB7ut5pH",
        "R9YYvxuWDMsg",
        "0MfCJoZrMnzB",
        "-1XEE0UlZl2C",
        "OmxBPoLnjX2p"
      ]
    },
    "gpuClass": "standard",
    "kernelspec": {
      "display_name": "Python 3",
      "name": "python3"
    },
    "language_info": {
      "name": "python"
    }
  },
  "nbformat": 4,
  "nbformat_minor": 0
}